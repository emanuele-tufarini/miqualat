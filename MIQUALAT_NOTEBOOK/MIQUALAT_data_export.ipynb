{
 "cells": [
  {
   "cell_type": "markdown",
   "metadata": {},
   "source": [
    "# run to export data from the database"
   ]
  },
  {
   "cell_type": "code",
   "execution_count": null,
   "metadata": {},
   "outputs": [],
   "source": [
    "'''\n",
    "pignotti.danilo@gmail.com\n",
    "emanuele.tufarini@live.com\n",
    "last modification 12/2020\n",
    "'''\n",
    "\n",
    "import os, sys\n",
    "directory = os.getcwd()\n",
    "# import functions from the functions folder\n",
    "library_directory = directory + \"/FUNCTIONS/\"\n",
    "sys.path.append(library_directory)\n",
    "# import database export function\n",
    "from MIQUALAT_data_export import *\n",
    "\n",
    "# database export \n",
    "miqualat_db_data_exporter(host=\"localhost\",db=\"MIQUALAT\",port=3306)"
   ]
  }
 ],
 "metadata": {
  "kernelspec": {
   "display_name": "Python 3",
   "language": "python",
   "name": "python3"
  },
  "language_info": {
   "codemirror_mode": {
    "name": "ipython",
    "version": 3
   },
   "file_extension": ".py",
   "mimetype": "text/x-python",
   "name": "python",
   "nbconvert_exporter": "python",
   "pygments_lexer": "ipython3",
   "version": "3.8.5"
  }
 },
 "nbformat": 4,
 "nbformat_minor": 4
}
