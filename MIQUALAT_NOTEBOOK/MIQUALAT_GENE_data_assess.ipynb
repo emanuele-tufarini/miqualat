{
 "cells": [
  {
   "cell_type": "markdown",
   "metadata": {},
   "source": [
    "RUN TO INSTALL REQUISITES"
   ]
  },
  {
   "cell_type": "code",
   "execution_count": null,
   "metadata": {},
   "outputs": [],
   "source": [
    "\n",
    "'''\n",
    "emanuele.tufarini@live.com\n",
    "last modification 11-2020\n",
    "'''\n",
    "\n",
    "!pip3 install biopython \n",
    "!pip3 install ensembl-rest\n",
    "!pip3 install mygene\n",
    "\n",
    "print (\"\\nall done ..\")\n"
   ]
  },
  {
   "cell_type": "markdown",
   "metadata": {},
   "source": [
    "RUN TO IMPORT FUNCTIONS AND SET PATH OF NOTEBOOK"
   ]
  },
  {
   "cell_type": "code",
   "execution_count": 2,
   "metadata": {},
   "outputs": [
    {
     "name": "stdout",
     "output_type": "stream",
     "text": [
      "\n",
      "all done\n"
     ]
    }
   ],
   "source": [
    "\n",
    "PATH = !pwd \n",
    "PATH = str(PATH[0])\n",
    "\n",
    "import sys, os\n",
    "# importing functions from the functions folder\n",
    "LIBRARY_PATH = PATH + \"/FUNCTIONS\"\n",
    "sys.path.append(LIBRARY_PATH)\n",
    "from ensembl_search import *\n",
    "from python_parser_biomart_gene_csv import *\n",
    "\n",
    "print(\"\\nall done\")\n"
   ]
  },
  {
   "cell_type": "markdown",
   "metadata": {},
   "source": [
    "RUN TO CREATE TABLE GENE"
   ]
  },
  {
   "cell_type": "code",
   "execution_count": 4,
   "metadata": {},
   "outputs": [
    {
     "name": "stdout",
     "output_type": "stream",
     "text": [
      "enter 1 to search for a gene, 2 to convert the biomart file to gene table: 1\n",
      "\n",
      "\n",
      "enter species (ex bos taurus): bos taurus\n",
      "enter ensembl_symbol (ex GPX1, GPR1 ..): GPX1, GPR1\n",
      "\n",
      "\n",
      "RESULT 1 | SPECIES | bos taurus | SYMBOL | GPX1 | ID | ENSBTAG00000054195 | DISPLAY_NAME | GPX1 | DESCRIPTION | glutathione peroxidase 1  | ASSEMBLY_NAME | ARS-UCD1.2 | SPECIES | bos taurus | SEQ_REGION_NAME | 22 | START | 50752499 | END | 50753719 | STRAMD | 1\n",
      "\n",
      "RESULT 2 | SPECIES | bos taurus | SYMBOL | GPR1 | ID | ENSBTAG00000017043 | DISPLAY_NAME | GPR1 | DESCRIPTION | G protein-coupled receptor 1  | ASSEMBLY_NAME | ARS-UCD1.2 | SPECIES | bos taurus | SEQ_REGION_NAME | 2 | START | 94507200 | END | 94552835 | STRAMD | -1\n",
      "\n",
      "\n",
      "all done .. GENE.csv file has been moved to OUTPUT folder ..\n"
     ]
    }
   ],
   "source": [
    "\n",
    "INPUT_PATH = PATH + \"/INPUT\"\n",
    "\n",
    "# ubuntu 20 set ssl security level 2 to 1\n",
    "\n",
    "select = input (\"enter 1 to search for a gene, 2 to convert the biomart file to gene table: \")\n",
    "print(\"\\n\")\n",
    "\n",
    "if select == \"1\":\n",
    "    species = input (\"enter species (ex bos taurus): \")\n",
    "    gene = input (\"enter ensembl_symbol (ex GPX1, GPR1 ..): \")\n",
    "    print(\"\\n\")\n",
    "    gene = gene.replace(\" \",\"\")\n",
    "    gene = gene.split(\",\")\n",
    "    GENE = open(\"GENE.csv\", \"w\")\n",
    "    GENE.write (\"ensembl_gene_ID,gene_name,gene_short_description,refseq,species,chromosome,start_coordinate,end_coordinate,strand\\n\")\n",
    "    GENE.close()\n",
    "    n = 1\n",
    "    for ensembl_symbol in gene:\n",
    "        ensembl_search(species, ensembl_symbol, n)\n",
    "        n += 1\n",
    "    !mv GENE.csv INPUT\n",
    "    print (\"\\nall done .. GENE.csv file has been moved to INPUT folder ..\")\n",
    "    \n",
    "elif select == \"2\":\n",
    "    os.chdir(INPUT_PATH)\n",
    "    print (\"first insert the biomart file in the INPUT folder\\n\")\n",
    "    print (\"default bos taurus (autosomal chromosome 29 refseq=ARS-UCD1.2)\\n\")\n",
    "    biomart_file = input (\"enter biomart file name, empty for default (mart_export.csv): \")\n",
    "    species = input (\"enter species, empty for default  (bos taurus): \")\n",
    "    chrom_autosomal = input (\"enter number of chromosome autosomal, empty for default  (bos taurus): \")\n",
    "    refseq = input (\"enter refseq, empty for default  (bos taurus): \")\n",
    "    print (\"\\nResult:\")\n",
    "    python_parser_biomart_gene_csv (biomart_file, refseq, species, chrom_autosomal)\n",
    "    print (\"\\nall done .. GENE.csv file has been moved to INPUT folder ..\")\n",
    "    os.chdir(PATH)\n",
    "    \n",
    "else:\n",
    "    print (\"WARNING: please enter 1 or 2\")\n",
    "    "
   ]
  },
  {
   "cell_type": "code",
   "execution_count": null,
   "metadata": {},
   "outputs": [],
   "source": []
  }
 ],
 "metadata": {
  "kernelspec": {
   "display_name": "Python 3",
   "language": "python",
   "name": "python3"
  },
  "language_info": {
   "codemirror_mode": {
    "name": "ipython",
    "version": 3
   },
   "file_extension": ".py",
   "mimetype": "text/x-python",
   "name": "python",
   "nbconvert_exporter": "python",
   "pygments_lexer": "ipython3",
   "version": "3.7.3"
  }
 },
 "nbformat": 4,
 "nbformat_minor": 4
}
