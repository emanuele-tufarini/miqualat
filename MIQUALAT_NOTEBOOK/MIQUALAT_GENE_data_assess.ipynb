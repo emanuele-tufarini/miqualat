{
 "cells": [
  {
   "cell_type": "markdown",
   "metadata": {},
   "source": [
    "run to create table GENE"
   ]
  },
  {
   "cell_type": "code",
   "execution_count": null,
   "metadata": {},
   "outputs": [],
   "source": [
    "'''\n",
    "pignotti.danilo@gmail.com\n",
    "emanuele.tufarini@live.com\n",
    "last modification 12/2020\n",
    "'''\n",
    "\n",
    "import os, sys\n",
    "PATH = os.getcwd()\n",
    "# import functions from the functions folder\n",
    "LIBRARY_PATH = PATH + \"/FUNCTIONS\"\n",
    "sys.path.append(LIBRARY_PATH)\n",
    "from ensembl_search import *\n",
    "from python_parser_biomart_gene_csv import *\n",
    "INPUT_PATH = PATH + \"/INPUT\"\n",
    "\n",
    "# ubuntu 20 set ssl security level 2 to 1\n",
    "select = input (\"enter 1 to search for a gene, 2 to convert the biomart file to gene table: \")\n",
    "print(\"\\n\")\n",
    "\n",
    "if select == \"1\":\n",
    "    os.chdir(INPUT_PATH)\n",
    "    species = input (\"enter species (ex bos taurus): \")\n",
    "    gene = input (\"enter ensembl_symbol (ex GPX1, GPR1 ..): \")\n",
    "    print(\"\\n\")\n",
    "    gene = gene.replace(\" \",\"\")\n",
    "    gene = gene.split(\",\")\n",
    "    GENE = open(\"GENE.csv\", \"w\")\n",
    "    GENE.write (\"ensembl_gene_ID,gene_name,gene_short_description,refseq,species,chromosome,start_coordinate,end_coordinate,strand\\n\")\n",
    "    GENE.close()\n",
    "    n = 1\n",
    "    for ensembl_symbol in gene:\n",
    "        ensembl_search(species, ensembl_symbol, n)\n",
    "        n += 1\n",
    "    os.chdir(PATH)\n",
    "    print (\"\\nall done .. GENE.csv file has been moved to INPUT folder ..\")\n",
    "    \n",
    "elif select == \"2\":\n",
    "    os.chdir(INPUT_PATH)\n",
    "    print (\"first insert the biomart file in the INPUT folder\\n\")\n",
    "    print (\"default bos taurus (autosomal chromosome 29 refseq=ARS-UCD1.2)\\n\")\n",
    "    biomart_file = input (\"enter biomart file name, empty for default (mart_export.csv): \")\n",
    "    species = input (\"enter species, empty for default  (bos taurus): \")\n",
    "    chrom_autosomal = input (\"enter number of chromosome autosomal, empty for default  (bos taurus): \")\n",
    "    refseq = input (\"enter refseq, empty for default  (bos taurus): \")\n",
    "    print (\"\\nResult:\")\n",
    "    python_parser_biomart_gene_csv (biomart_file, refseq, species, chrom_autosomal)\n",
    "    print (\"\\nall done .. GENE.csv file has been moved to INPUT folder ..\")\n",
    "    os.chdir(PATH)\n",
    "    \n",
    "else:\n",
    "    print (\"WARNING: please enter 1 or 2\")"
   ]
  }
 ],
 "metadata": {
  "kernelspec": {
   "display_name": "Python 3",
   "language": "python",
   "name": "python3"
  },
  "language_info": {
   "codemirror_mode": {
    "name": "ipython",
    "version": 3
   },
   "file_extension": ".py",
   "mimetype": "text/x-python",
   "name": "python",
   "nbconvert_exporter": "python",
   "pygments_lexer": "ipython3",
   "version": "3.7.3"
  }
 },
 "nbformat": 4,
 "nbformat_minor": 4
}
