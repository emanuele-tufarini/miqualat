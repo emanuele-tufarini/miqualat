{
 "cells": [
  {
   "cell_type": "markdown",
   "metadata": {},
   "source": [
    "# run to extract pathways and entity informations from reactome database"
   ]
  },
  {
   "cell_type": "code",
   "execution_count": null,
   "metadata": {},
   "outputs": [],
   "source": [
    "'''\n",
    "pignotti.danilo@gmail.com\n",
    "emanuele.tufarini@live.com\n",
    "'''\n",
    "\n",
    "! pip3 install reactome2py\n",
    "import os, sys\n",
    "PATH = os.getcwd()\n",
    "# import functions from the functions folder\n",
    "LIBRARY_PATH = PATH + \"/FUNCTIONS/\"\n",
    "sys.path.append(LIBRARY_PATH)\n",
    "\n",
    "print (\"\\nupload files are in the INPUT folder (or create file with notebook)\\n\")\n",
    "\n",
    "from reactome_pathfinder import *\n",
    "\n",
    "\n"
   ]
  },
  {
   "cell_type": "code",
   "execution_count": null,
   "metadata": {},
   "outputs": [],
   "source": [
    "reactome_pathfinder()"
   ]
  }
 ],
 "metadata": {
  "kernelspec": {
   "display_name": "Python 3",
   "language": "python",
   "name": "python3"
  },
  "language_info": {
   "codemirror_mode": {
    "name": "ipython",
    "version": 3
   },
   "file_extension": ".py",
   "mimetype": "text/x-python",
   "name": "python",
   "nbconvert_exporter": "python",
   "pygments_lexer": "ipython3",
   "version": "3.8.5"
  }
 },
 "nbformat": 4,
 "nbformat_minor": 4
}
