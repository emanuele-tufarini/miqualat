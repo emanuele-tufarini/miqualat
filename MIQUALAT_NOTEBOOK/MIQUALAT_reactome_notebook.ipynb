{
 "cells": [
  {
   "cell_type": "code",
   "execution_count": 7,
   "metadata": {},
   "outputs": [
    {
     "name": "stdout",
     "output_type": "stream",
     "text": [
      "Requirement already satisfied: reactome2py in /usr/local/lib/python3.8/dist-packages (3.0.0)\n",
      "Requirement already satisfied: json5>=0.8.4 in /usr/local/lib/python3.8/dist-packages (from reactome2py) (0.9.5)\n",
      "Requirement already satisfied: requests in /usr/lib/python3/dist-packages (from reactome2py) (2.22.0)\n",
      "Requirement already satisfied: pandas>=0.24.2 in /usr/local/lib/python3.8/dist-packages (from reactome2py) (1.0.3)\n",
      "Requirement already satisfied: numpy>=1.13.3 in /usr/local/lib/python3.8/dist-packages (from pandas>=0.24.2->reactome2py) (1.18.4)\n",
      "Requirement already satisfied: pytz>=2017.2 in /usr/lib/python3/dist-packages (from pandas>=0.24.2->reactome2py) (2019.3)\n",
      "Requirement already satisfied: python-dateutil>=2.6.1 in /usr/lib/python3/dist-packages (from pandas>=0.24.2->reactome2py) (2.7.3)\n",
      "\n",
      "upload files are in the INPUT folder (or create file with notebook)\n",
      "\n"
     ]
    }
   ],
   "source": [
    "'''\n",
    "pignotti.danilo@gmail.com\n",
    "emanuele.tufarini@live.com\n",
    "'''\n",
    "\n",
    "! pip3 install reactome2py\n",
    "import os, sys\n",
    "PATH = os.getcwd()\n",
    "# import functions from the functions folder\n",
    "LIBRARY_PATH = PATH + \"/FUNCTIONS/\"\n",
    "sys.path.append(LIBRARY_PATH)\n",
    "\n",
    "print (\"\\nupload files are in the INPUT folder (or create file with notebook)\\n\")\n",
    "\n",
    "from reactome_pathfinder import *\n",
    "\n",
    "\n"
   ]
  },
  {
   "cell_type": "code",
   "execution_count": 8,
   "metadata": {},
   "outputs": [
    {
     "name": "stdout",
     "output_type": "stream",
     "text": [
      "[INFO] the function reactome_pathfinder() retrieves reactome database pathways code/ID and other informations on all the pathways related to a gene ENSEMBL_ID or a list of gene ENSEMBL_IDs\n",
      "\n",
      "Please enter only one species to perform the research [i.e. Bos taurus or Ovis aries or others]: Bos taurus\n",
      "\n",
      "Please enter a gene ENSEMBL_ID or a list of gene ENSEMBL_IDS comma separated [i.e. ENSBTAG00000012023 or ENSBTAG00000012023,ENSBTAG00000014486,...,ENSBTAG00000016484]:ENSBTAG00000001842\n"
     ]
    },
    {
     "data": {
      "text/html": [
       "<div>\n",
       "<style scoped>\n",
       "    .dataframe tbody tr th:only-of-type {\n",
       "        vertical-align: middle;\n",
       "    }\n",
       "\n",
       "    .dataframe tbody tr th {\n",
       "        vertical-align: top;\n",
       "    }\n",
       "\n",
       "    .dataframe thead th {\n",
       "        text-align: right;\n",
       "    }\n",
       "</style>\n",
       "<table border=\"1\" class=\"dataframe\">\n",
       "  <thead>\n",
       "    <tr style=\"text-align: right;\">\n",
       "      <th></th>\n",
       "      <th>ensembl_gene_ID</th>\n",
       "      <th>database_ID</th>\n",
       "    </tr>\n",
       "  </thead>\n",
       "  <tbody>\n",
       "    <tr>\n",
       "      <th>0</th>\n",
       "      <td>ENSBTAG00000001842</td>\n",
       "      <td>R-BTA-156590</td>\n",
       "    </tr>\n",
       "  </tbody>\n",
       "</table>\n",
       "</div>"
      ],
      "text/plain": [
       "      ensembl_gene_ID   database_ID\n",
       "0  ENSBTAG00000001842  R-BTA-156590"
      ]
     },
     "metadata": {},
     "output_type": "display_data"
    },
    {
     "name": "stdout",
     "output_type": "stream",
     "text": [
      "\n",
      "after displayed GEN_DB table example do you want to save results in a .csv file in INPUT folder? (i.e. yes or not): yes\n"
     ]
    },
    {
     "data": {
      "text/html": [
       "<div>\n",
       "<style scoped>\n",
       "    .dataframe tbody tr th:only-of-type {\n",
       "        vertical-align: middle;\n",
       "    }\n",
       "\n",
       "    .dataframe tbody tr th {\n",
       "        vertical-align: top;\n",
       "    }\n",
       "\n",
       "    .dataframe thead th {\n",
       "        text-align: right;\n",
       "    }\n",
       "</style>\n",
       "<table border=\"1\" class=\"dataframe\">\n",
       "  <thead>\n",
       "    <tr style=\"text-align: right;\">\n",
       "      <th></th>\n",
       "      <th>database_ID</th>\n",
       "      <th>database_object_type</th>\n",
       "      <th>database_object_name</th>\n",
       "    </tr>\n",
       "  </thead>\n",
       "  <tbody>\n",
       "    <tr>\n",
       "      <th>0</th>\n",
       "      <td>R-BTA-156590</td>\n",
       "      <td>reactome_pathway</td>\n",
       "      <td>Glutathione conjugation</td>\n",
       "    </tr>\n",
       "  </tbody>\n",
       "</table>\n",
       "</div>"
      ],
      "text/plain": [
       "    database_ID database_object_type     database_object_name\n",
       "0  R-BTA-156590     reactome_pathway  Glutathione conjugation"
      ]
     },
     "metadata": {},
     "output_type": "display_data"
    },
    {
     "name": "stdout",
     "output_type": "stream",
     "text": [
      "\n",
      "after displayed DB table example do you want to save results in a .csv file in INPUT folder? (i.e. yes or not): yes\n"
     ]
    },
    {
     "data": {
      "text/plain": [
       "'All done, thank you for processing reactome database data'"
      ]
     },
     "execution_count": 8,
     "metadata": {},
     "output_type": "execute_result"
    }
   ],
   "source": [
    "reactome_pathfinder()"
   ]
  },
  {
   "cell_type": "code",
   "execution_count": null,
   "metadata": {},
   "outputs": [],
   "source": []
  }
 ],
 "metadata": {
  "kernelspec": {
   "display_name": "Python 3",
   "language": "python",
   "name": "python3"
  },
  "language_info": {
   "codemirror_mode": {
    "name": "ipython",
    "version": 3
   },
   "file_extension": ".py",
   "mimetype": "text/x-python",
   "name": "python",
   "nbconvert_exporter": "python",
   "pygments_lexer": "ipython3",
   "version": "3.8.5"
  }
 },
 "nbformat": 4,
 "nbformat_minor": 4
}
