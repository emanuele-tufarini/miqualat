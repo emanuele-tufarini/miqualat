{
 "cells": [
  {
   "cell_type": "markdown",
   "metadata": {},
   "source": [
    "run to create table pub_gen_var_tec_tag, tag, tecnique, variant"
   ]
  },
  {
   "cell_type": "code",
   "execution_count": 3,
   "metadata": {},
   "outputs": [
    {
     "name": "stdout",
     "output_type": "stream",
     "text": [
      "follow the instructions to create the file\n",
      "\n",
      "enter table number (1:PUB_GEN_VAR_TEC_TAG,2:TAG,3:TECNIQUE,4:VARIANT): 1\n",
      "\n",
      "\n",
      "enter type of choise (1:one gene at time,2:more gene at time): 2\n",
      "\n",
      "\n",
      "enter pubmed_ID (ex 29680643), cannot be NULL (empty): 19164669\n",
      "enter ensembl_gene_ID (ex ENSBTAG00000031544,ENSBTAG00000053003), can be NULL (empty): ENSBTAG00000013912,ENSBTAG00000054195,ENSBTAG00000053003,ENSBTAG00000015582,ENSBTAG00000011990,ENSBTAG00000010303,ENSBTAG00000007773,ENSBTAG00000025471,ENSBTAG00000001321,ENSBTAG00000019716\n",
      "enter variant_name (NULL or variant_name, variant table for more info), can be NULL (empty): \n",
      "enter tecnique (ex QPCR), can be NULL (empty): qPCR\n",
      "enter keyword_tags (ex apoptosis, antioxidants), insert one keyword at time, can be NULL (empty): oxidative stress,early lactation,dry period,lactation,periparturient,mammary gland,inflammation\n",
      "enter relationship_note (simple description of relationship max 200 char ex gene and tecnique), can be NULL (empty): gene and tecnique\n",
      "\n",
      "PUB_GEN_VAR_TEC_TAG.csv has been moved to INPUT folder\n"
     ]
    }
   ],
   "source": [
    "'''\n",
    "pignotti.danilo@gmail.com\n",
    "emanuele.tufarini@live.com\n",
    "last modification 12/2020\n",
    "'''\n",
    "# added NULL value check, empty auto-NULL only if it is possible\n",
    "\n",
    "import os, sys\n",
    "PATH = os.getcwd()\n",
    "# import functions from the functions folder\n",
    "LIBRARY_PATH = PATH + \"/FUNCTIONS\"\n",
    "sys.path.append(LIBRARY_PATH)\n",
    "from MIQUALAT_manual_table import *\n",
    "INPUT_PATH = PATH + \"/INPUT\"\n",
    "print(\"follow the instructions to create the file\\n\")\n",
    "select_table=input(\"enter table number (1:PUB_GEN_VAR_TEC_TAG,2:TAG,3:TECNIQUE,4:VARIANT): \")\n",
    "print(\"\\n\")\n",
    "if select_table==\"1\":\n",
    "    select_type=input(\"enter type of choise (1:one gene at time,2:more gene at time): \")\n",
    "    if select_type==\"1\":\n",
    "        print(\"\\n\")\n",
    "        os.chdir(INPUT_PATH)\n",
    "        header=\"integer_progressive_ID,pubmed_ID,ensembl_gene_ID,variant_name,tecnique,keyword_tags,relationship_note\"\n",
    "        table_file=open(\"PUB_GEN_VAR_TEC_TAG.csv\",\"w\")\n",
    "        table_file.write(header+\"\\n\")\n",
    "        table_file.close()\n",
    "        relational_table_repeat()\n",
    "        os.chdir(PATH)\n",
    "        print(\"\\nPUB_GEN_VAR_TEC_TAG.csv has been moved to INPUT folder\")\n",
    "    elif select_type==\"2\":\n",
    "        print(\"\\n\")\n",
    "        os.chdir(INPUT_PATH)\n",
    "        header=\"integer_progressive_ID,pubmed_ID,ensembl_gene_ID,variant_name,tecnique,keyword_tags,relationship_note\"\n",
    "        table_file=open(\"PUB_GEN_VAR_TEC_TAG.csv\",\"w\")\n",
    "        table_file.write(header+\"\\n\")\n",
    "        table_file.close()\n",
    "        relational_table_list_of_gene()\n",
    "        os.chdir(PATH)\n",
    "        print(\"\\nPUB_GEN_VAR_TEC_TAG.csv has been moved to INPUT folder\")\n",
    "elif select_table==\"2\":\n",
    "    os.chdir(INPUT_PATH)\n",
    "    header=\"keyword_tags,tags_short_description\"\n",
    "    table_file=open(\"TAG.csv\",\"w\") \n",
    "    table_file.write(header+\"\\n\")\n",
    "    table_file.close()\n",
    "    tag_table_repeat()\n",
    "    os.chdir(PATH)\n",
    "    print(\"\\nTAG.csv has been moved to INPUT folder\")\n",
    "elif select_table==\"3\":\n",
    "    os.chdir(INPUT_PATH)\n",
    "    header=\"tecnique,tecnique_short_description\"\n",
    "    table_file=open(\"TECNIQUE.csv\",\"w\")\n",
    "    table_file.write(header+\"\\n\")\n",
    "    table_file.close() \n",
    "    tecnique_table_repeat()\n",
    "    os.chdir(PATH)\n",
    "    print(\"\\nTECNIQUE.csv has been moved to INPUT folder\")\n",
    "elif select_table==\"4\":\n",
    "    os.chdir(INPUT_PATH)\n",
    "    header=\"variant_name,variant_type,chromosome,chromosome_position,allele_reference,alternative_allele_reference\"\n",
    "    table_file=open(\"VARIANT.csv\",\"w\")\n",
    "    table_file.write(header+\"\\n\")\n",
    "    table_file.close()\n",
    "    variant_table_repeat()\n",
    "    os.chdir(PATH)\n",
    "    print(\"\\nVARIANT.csv has been moved to INPUT folder\")  \n",
    "else:\n",
    "    print(\"please enter (1:PUB_GEN_VAR_TEC_TAG,2:TAG,3:TECNIQUE,4:VARIANT)\")"
   ]
  },
  {
   "cell_type": "code",
   "execution_count": null,
   "metadata": {},
   "outputs": [],
   "source": []
  },
  {
   "cell_type": "code",
   "execution_count": null,
   "metadata": {},
   "outputs": [],
   "source": []
  }
 ],
 "metadata": {
  "kernelspec": {
   "display_name": "Python 3",
   "language": "python",
   "name": "python3"
  },
  "language_info": {
   "codemirror_mode": {
    "name": "ipython",
    "version": 3
   },
   "file_extension": ".py",
   "mimetype": "text/x-python",
   "name": "python",
   "nbconvert_exporter": "python",
   "pygments_lexer": "ipython3",
   "version": "3.7.3"
  }
 },
 "nbformat": 4,
 "nbformat_minor": 4
}
