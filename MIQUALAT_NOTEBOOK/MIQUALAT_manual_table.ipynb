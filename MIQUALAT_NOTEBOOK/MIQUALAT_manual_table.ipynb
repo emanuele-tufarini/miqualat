{
 "cells": [
  {
   "cell_type": "markdown",
   "metadata": {},
   "source": [
    "run to create table pub_gen_var_tec_tag, tag, tecnique, variant"
   ]
  },
  {
   "cell_type": "code",
   "execution_count": null,
   "metadata": {},
   "outputs": [],
   "source": [
    "'''\n",
    "pignotti.danilo@gmail.com\n",
    "emanuele.tufarini@live.com\n",
    "last modification 12/2020\n",
    "'''\n",
    "# added NULL value check, empty auto-NULL only if it is possible\n",
    "\n",
    "import os, sys\n",
    "PATH = os.getcwd()\n",
    "# import functions from the functions folder\n",
    "LIBRARY_PATH = PATH + \"/FUNCTIONS\"\n",
    "sys.path.append(LIBRARY_PATH)\n",
    "from MIQUALAT_manual_table import *\n",
    "INPUT_PATH = PATH + \"/INPUT\"\n",
    "print(\"follow the instructions to create the file\\n\")\n",
    "select_table=input(\"enter table number (1:PUB_GEN_VAR_TEC_TAG,2:TAG,3:TECNIQUE,4:VARIANT): \")\n",
    "print(\"\\n\")\n",
    "if select_table==\"1\":\n",
    "    select_type=input(\"enter type of choise (1:one gene at time,2:more gene at time): \")\n",
    "    if select_type==\"1\":\n",
    "        print(\"\\n\")\n",
    "        os.chdir(INPUT_PATH)\n",
    "        header=\"integer_progressive_ID,pubmed_ID,ensembl_gene_ID,variant_name,tecnique,keyword_tags,relationship_note\"\n",
    "        table_file=open(\"PUB_GEN_VAR_TEC_TAG.csv\",\"w\")\n",
    "        table_file.write(header+\"\\n\")\n",
    "        table_file.close()\n",
    "        relational_table_repeat()\n",
    "        os.chdir(PATH)\n",
    "        print(\"\\nPUB_GEN_VAR_TEC_TAG.csv has been moved to INPUT folder\")\n",
    "    elif select_type==\"2\":\n",
    "        print(\"\\n\")\n",
    "        os.chdir(INPUT_PATH)\n",
    "        header=\"integer_progressive_ID,pubmed_ID,ensembl_gene_ID,variant_name,tecnique,keyword_tags,relationship_note\"\n",
    "        table_file=open(\"PUB_GEN_VAR_TEC_TAG.csv\",\"w\")\n",
    "        table_file.write(header+\"\\n\")\n",
    "        table_file.close()\n",
    "        relational_table_list_of_gene()\n",
    "        os.chdir(PATH)\n",
    "        print(\"\\nPUB_GEN_VAR_TEC_TAG.csv has been moved to INPUT folder\")\n",
    "elif select_table==\"2\":\n",
    "    os.chdir(INPUT_PATH)\n",
    "    header=\"keyword_tags,tags_short_description\"\n",
    "    table_file=open(\"TAG.csv\",\"w\") \n",
    "    table_file.write(header+\"\\n\")\n",
    "    table_file.close()\n",
    "    tag_table_repeat()\n",
    "    os.chdir(PATH)\n",
    "    print(\"\\nTAG.csv has been moved to INPUT folder\")\n",
    "elif select_table==\"3\":\n",
    "    os.chdir(INPUT_PATH)\n",
    "    header=\"keyword_tags,tags_short_description\"\n",
    "    table_file=open(\"TECNIQUE.csv\",\"w\")\n",
    "    table_file.write(header+\"\\n\")\n",
    "    table_file.close() \n",
    "    tecnique_table_repeat()\n",
    "    os.chdir(PATH)\n",
    "    print(\"\\nTECNIQUE.csv has been moved to INPUT folder\")\n",
    "elif select_table==\"4\":\n",
    "    os.chdir(INPUT_PATH)\n",
    "    header=\"variant_name,variant_type,chromosome,chromosome_position,allele_reference,alternative_allele_reference\"\n",
    "    table_file=open(\"VARIANT.csv\",\"w\")\n",
    "    table_file.write(header+\"\\n\")\n",
    "    table_file.close()\n",
    "    variant_table_repeat()\n",
    "    os.chdir(PATH)\n",
    "    print(\"\\nVARIANT.csv has been moved to INPUT folder\")  \n",
    "else:\n",
    "    print(\"please enter (1:PUB_GEN_VAR_TEC_TAG,2:TAG,3:TECNIQUE,4:VARIANT)\")"
   ]
  },
  {
   "cell_type": "code",
   "execution_count": null,
   "metadata": {},
   "outputs": [],
   "source": []
  }
 ],
 "metadata": {
  "kernelspec": {
   "display_name": "Python 3",
   "language": "python",
   "name": "python3"
  },
  "language_info": {
   "codemirror_mode": {
    "name": "ipython",
    "version": 3
   },
   "file_extension": ".py",
   "mimetype": "text/x-python",
   "name": "python",
   "nbconvert_exporter": "python",
   "pygments_lexer": "ipython3",
   "version": "3.7.3"
  }
 },
 "nbformat": 4,
 "nbformat_minor": 4
}
