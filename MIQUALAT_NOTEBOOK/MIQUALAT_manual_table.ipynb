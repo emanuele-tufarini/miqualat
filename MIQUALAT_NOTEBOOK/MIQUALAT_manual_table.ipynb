{
 "cells": [
  {
   "cell_type": "markdown",
   "metadata": {},
   "source": [
    "RUN FOR CREATE THE TABLE MANUALLY"
   ]
  },
  {
   "cell_type": "code",
   "execution_count": 1,
   "metadata": {},
   "outputs": [
    {
     "name": "stdout",
     "output_type": "stream",
     "text": [
      "follow the instructions to create the file\n",
      "\n",
      "enter table number (1:PUB_GEN_VAR_TEC_TAG,2:TAG,3:TECNIQUE,4:VARIANT): 4\n",
      "\n",
      "\n",
      "enter yes to continue insertion, or leave empty for exit (file will be saved): yes\n",
      "enter variant_name, cannot be NULL (empty): \n",
      "variant_name cannot be NULL retry\n",
      "enter variant_name, cannot be NULL (empty): null\n",
      "variant_name cannot be NULL retry\n",
      "enter variant_name, cannot be NULL (empty): test1\n",
      "enter variant_type, cannot be NULL (empty): \n",
      "variant_type cannot be NULL retry\n",
      "enter variant_type, cannot be NULL (empty): NULL\n",
      "variant_type cannot be NULL retry\n",
      "enter variant_type, cannot be NULL (empty): test2\n",
      "enter chromosome, cannot be NULL (empty): Null\n",
      "chromosome cannot be NULL retry\n",
      "enter chromosome, cannot be NULL (empty): test3\n",
      "enter chromosome_position, cannot be NULL (empty): null\n",
      "chromosome_position cannot be NULL retry\n",
      "enter chromosome_position, cannot be NULL (empty): \n",
      "chromosome_position cannot be NULL retry\n",
      "enter chromosome_position, cannot be NULL (empty): test4\n",
      "enter allele_reference, cannot be NULL (empty): \n",
      "allele_reference cannot be NULL retry\n",
      "enter allele_reference, cannot be NULL (empty): null\n",
      "allele_reference cannot be NULL retry\n",
      "enter allele_reference, cannot be NULL (empty): Null\n",
      "allele_reference cannot be NULL retry\n",
      "enter allele_reference, cannot be NULL (empty): NUlL\n",
      "allele_reference cannot be NULL retry\n",
      "enter allele_reference, cannot be NULL (empty): test5\n",
      "enter alternative_allele_reference, cannot be NULL (empty): null\n",
      "alternative_allele_reference cannot be NULL retry\n",
      "enter alternative_allele_reference, cannot be NULL (empty): \n",
      "alternative_allele_reference cannot be NULL retry\n",
      "enter alternative_allele_reference, cannot be NULL (empty): test6\n",
      "enter yes to continue insertion, or leave empty for exit (file will be saved): \n",
      "\n",
      "see you later!\n",
      "\n",
      "VARIANT.csv has been moved to INPUT folder\n"
     ]
    }
   ],
   "source": [
    "'''\n",
    "pignotti.danilo@gmail.com\n",
    "emanuele.tufarini@live.com\n",
    "last modification 12/2020\n",
    "'''\n",
    "# with NULL value check, empty auto-NULL if possible\n",
    "\n",
    "PATH = !pwd \n",
    "PATH = str(PATH[0])\n",
    "import sys\n",
    "# importing functions from the functions folder\n",
    "LIBRARY_PATH = PATH + \"/FUNCTIONS\"\n",
    "sys.path.append(LIBRARY_PATH)\n",
    "from MIQUALAT_manual_table import *\n",
    "print(\"follow the instructions to create the file\\n\")\n",
    "select_table=input(\"enter table number (1:PUB_GEN_VAR_TEC_TAG,2:TAG,3:TECNIQUE,4:VARIANT): \")\n",
    "print(\"\\n\")\n",
    "if select_table==\"1\":\n",
    "    header=\"integer_progressive_ID,pubmed_ID,ensembl_gene_ID,variant_name,tecnique,keyword_tags,relationship_note\"\n",
    "    table_file=open(\"PUB_GEN_VAR_TEC_TAG.csv\",\"w\")\n",
    "    table_file.write(header+\"\\n\")\n",
    "    table_file.close()\n",
    "    relational_table_repeat()\n",
    "    !mv PUB_GEN_VAR_TEC_TAG.csv INPUT/\n",
    "    print(\"\\nPUB_GEN_VAR_TEC_TAG.csv has been moved to INPUT folder\")\n",
    "elif select_table==\"2\":\n",
    "    header=\"keyword_tags,tags_short_description\"\n",
    "    table_file=open(\"TAG.csv\",\"w\") \n",
    "    table_file.write(header+\"\\n\")\n",
    "    table_file.close()\n",
    "    tag_table_repeat()\n",
    "    !mv TAG.csv INPUT/\n",
    "    print(\"\\nTAG.csv has been moved to INPUT folder\")\n",
    "elif select_table==\"3\":\n",
    "    header=\"keyword_tags,tags_short_description\"\n",
    "    table_file=open(\"TAG.csv\",\"w\")\n",
    "    table_file.write(header+\"\\n\")\n",
    "    table_file.close() \n",
    "    tecnique_table_repeat()\n",
    "    !mv TECNIQUE.csv INPUT/\n",
    "    print(\"\\nTECNIQUE.csv has been moved to INPUT folder\")\n",
    "elif select_table==\"4\":\n",
    "    header=\"variant_name,variant_type,chromosome,chromosome_position,allele_reference,alternative_allele_reference\"\n",
    "    table_file=open(\"VARIANT.csv\",\"w\")\n",
    "    table_file.write(header+\"\\n\")\n",
    "    table_file.close()\n",
    "    variant_table_repeat()\n",
    "    !mv VARIANT.csv INPUT/\n",
    "    print(\"\\nVARIANT.csv has been moved to INPUT folder\")  \n",
    "else:\n",
    "    print(\"please enter (1:PUB_GEN_VAR_TEC_TAG,2:TAG,3:TECNIQUE,4:VARIANT)\")"
   ]
  },
  {
   "cell_type": "code",
   "execution_count": null,
   "metadata": {},
   "outputs": [],
   "source": []
  }
 ],
 "metadata": {
  "kernelspec": {
   "display_name": "Python 3",
   "language": "python",
   "name": "python3"
  },
  "language_info": {
   "codemirror_mode": {
    "name": "ipython",
    "version": 3
   },
   "file_extension": ".py",
   "mimetype": "text/x-python",
   "name": "python",
   "nbconvert_exporter": "python",
   "pygments_lexer": "ipython3",
   "version": "3.7.3"
  }
 },
 "nbformat": 4,
 "nbformat_minor": 4
}
