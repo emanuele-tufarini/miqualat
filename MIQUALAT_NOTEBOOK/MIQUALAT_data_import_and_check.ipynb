{
 "cells": [
  {
   "cell_type": "markdown",
   "metadata": {},
   "source": [
    "run to check data and insert to database"
   ]
  },
  {
   "cell_type": "code",
   "execution_count": null,
   "metadata": {},
   "outputs": [],
   "source": [
    "'''\n",
    "pignotti.danilo@gmail.com\n",
    "emanuele.tufarini@live.com\n",
    "last modification 12/2020\n",
    "\n",
    "--CAUTION--\n",
    "!! ENTER DATA ONLY IF VALIDATED !!\n",
    "--CAUTION--\n",
    "'''\n",
    "\n",
    "import os, sys\n",
    "PATH = os.getcwd()\n",
    "# import functions from the functions folder\n",
    "LIBRARY_PATH = PATH + \"/FUNCTIONS/\"\n",
    "sys.path.append(LIBRARY_PATH)\n",
    "\n",
    "print (\"\\nupload files are in the INPUT folder (or create file with notebook)\\n\")\n",
    "\n",
    "# database import and check \n",
    "from MIQUALAT_data_import_and_check import *\n",
    "\n",
    "'''\n",
    "call the database_security_checker() function\n",
    "that once the entries check and if there are no warnings\n",
    "calls the database_importer()# function\n",
    "'''\n",
    "\n",
    "FILE_PATH = PATH + \"/INPUT/\"\n",
    "\n",
    "# call of the function datanase_import_data_selector: to import selected data table in MIQUALAT#\n",
    "database_import_data_selector(FILE_PATH)"
   ]
  }
 ],
 "metadata": {
  "kernelspec": {
   "display_name": "Python 3",
   "language": "python",
   "name": "python3"
  },
  "language_info": {
   "codemirror_mode": {
    "name": "ipython",
    "version": 3
   },
   "file_extension": ".py",
   "mimetype": "text/x-python",
   "name": "python",
   "nbconvert_exporter": "python",
   "pygments_lexer": "ipython3",
   "version": "3.7.3"
  }
 },
 "nbformat": 4,
 "nbformat_minor": 4
}
