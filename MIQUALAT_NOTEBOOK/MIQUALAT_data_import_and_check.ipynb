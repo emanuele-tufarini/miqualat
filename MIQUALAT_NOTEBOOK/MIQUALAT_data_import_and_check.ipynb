{
 "cells": [
  {
   "cell_type": "markdown",
   "metadata": {},
   "source": [
    "run to check data and insert to database"
   ]
  },
  {
   "cell_type": "code",
   "execution_count": null,
   "metadata": {},
   "outputs": [
    {
     "name": "stdout",
     "output_type": "stream",
     "text": [
      "\n",
      "upload files are in the INPUT folder (or create file with notebook)\n",
      "\n",
      "enter your username: lele_server\n",
      "enter your password: ········\n",
      "\n",
      "import selection menu: \n",
      "enter 0 to upload data in database MIQUALAT following tables: GENE,KEGG,GEN_KEGG,PUBLICATION,TECNIQUE,TAG,VARIANT,PUB_GEN_VAR_TEC_TAG;\n",
      "enter 1 to upload data in database MIQUALAT following tables: GENE;\n",
      "enter 2 to upload data in database MIQUALAT following tables: KEGG;\n",
      "enter 3 to upload data in database MIQUALAT following tables: GEN_KEGG;\n",
      "enter 4 to upload data in database MIQUALAT following tables: PUBLICATION;\n",
      "enter 5 to upload data in database MIQUALAT following tables: TECNIQUE;\n",
      "enter 6 to upload data in database MIQUALAT following tables: TAG;\n",
      "enter 7 to upload data in database MIQUALAT following tables: VARIANT;\n",
      "enter 8 to upload data in database MIQUALAT following tables: PUB_GEN_VAR_TEC_TAG;\n",
      "\n",
      "enter tables selection numbers (i.e. 0 or 5 or 1,2,3): 2,3,4,5,6,7,8\n",
      "\n",
      "for table: KEGG enter csv file name: KEGG.csv\n",
      "\n",
      "KEGG has been successully imported into the database\n",
      "\n",
      "for table: GEN_KEGG enter csv file name: GEN_KEGG.csv\n",
      "\n",
      "GEN_KEGG has been successully imported into the database\n",
      "\n",
      "for table: PUBLICATION enter csv file name: PUBLICATION.csv\n",
      "\n",
      "PUBLICATION has been successully imported into the database\n",
      "\n",
      "for table: TECNIQUE enter csv file name: TECNIQUE.csv\n",
      "\n",
      "TECNIQUE has been successully imported into the database\n"
     ]
    }
   ],
   "source": [
    "'''\n",
    "pignotti.danilo@gmail.com\n",
    "emanuele.tufarini@live.com\n",
    "last modification 12/2020\n",
    "\n",
    "--CAUTION--\n",
    "!! ENTER DATA ONLY IF VALIDATED !!\n",
    "--CAUTION--\n",
    "'''\n",
    "\n",
    "import os, sys\n",
    "PATH = os.getcwd()\n",
    "# import functions from the functions folder\n",
    "LIBRARY_PATH = PATH + \"/FUNCTIONS/\"\n",
    "sys.path.append(LIBRARY_PATH)\n",
    "\n",
    "print (\"\\nupload files are in the INPUT folder (or create file with notebook)\\n\")\n",
    "\n",
    "# database import and check \n",
    "from MIQUALAT_data_import_and_check import *\n",
    "\n",
    "'''\n",
    "call the database_security_checker() function\n",
    "that once the entries check and if there are no warnings\n",
    "calls the database_importer()# function\n",
    "'''\n",
    "\n",
    "FILE_PATH = PATH + \"/INPUT/\"\n",
    "\n",
    "# call of the function datanase_import_data_selector: to import selected data table in MIQUALAT#\n",
    "database_import_data_selector(FILE_PATH)"
   ]
  },
  {
   "cell_type": "code",
   "execution_count": null,
   "metadata": {},
   "outputs": [],
   "source": []
  }
 ],
 "metadata": {
  "kernelspec": {
   "display_name": "Python 3",
   "language": "python",
   "name": "python3"
  }
 },
 "nbformat": 4,
 "nbformat_minor": 4
}
