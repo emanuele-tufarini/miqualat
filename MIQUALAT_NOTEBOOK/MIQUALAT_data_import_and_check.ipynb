{
 "cells": [
  {
   "cell_type": "markdown",
   "metadata": {},
   "source": [
    "# run to check data and insert to database"
   ]
  },
  {
   "cell_type": "code",
   "execution_count": 3,
   "metadata": {},
   "outputs": [
    {
     "name": "stdout",
     "output_type": "stream",
     "text": [
      "\n",
      "upload files are in the INPUT folder (or create file with notebook)\n",
      "\n",
      "enter your username: danilo\n",
      "enter your password: ········\n",
      "\n",
      "import selection menu: \n",
      "enter 0 to upload data in database MIQUALAT following tables: DB,GENE,GEN_DB,PUBLICATION,VARIANT,TECNIQUE,TAG,PUB_GEN_VAR_TEC_TAG;\n",
      "enter 1 to upload data in database MIQUALAT following tables: DB;\n",
      "enter 2 to upload data in database MIQUALAT following tables: GENE;\n",
      "enter 3 to upload data in database MIQUALAT following tables: GEN_DB;\n",
      "enter 4 to upload data in database MIQUALAT following tables: PUBLICATION;\n",
      "enter 5 to upload data in database MIQUALAT following tables: VARIANT;\n",
      "enter 6 to upload data in database MIQUALAT following tables: TECNIQUE;\n",
      "enter 7 to upload data in database MIQUALAT following tables: TAG;\n",
      "enter 8 to upload data in database MIQUALAT following tables: PUB_GEN_VAR_TEC_TAG;\n",
      "\n",
      "enter tables selection numbers (i.e. 0 or 5 or 1,2,3): 1,3\n",
      "\n",
      "for table: DB enter csv file name: Danilo_Pignotti_2021-3-29_16-28-14_DB.csv\n",
      "\n",
      "DB has been successully imported into the database!\n",
      "\n",
      "for table: GEN_DB enter csv file name: Danilo_Pignotti_2021-3-29_16-28-14_GEN_DB.csv\n",
      "\n",
      "GEN_DB has been successully imported into the database!\n"
     ]
    }
   ],
   "source": [
    "'''\n",
    "pignotti.danilo@gmail.com\n",
    "emanuele.tufarini@live.com\n",
    "last modification 12/2020\n",
    "\n",
    "--CAUTION--\n",
    "!! ENTER DATA ONLY IF VALIDATED !!\n",
    "--CAUTION--\n",
    "'''\n",
    "\n",
    "import os, sys\n",
    "directory = os.getcwd()\n",
    "# import functions from the functions folder\n",
    "library_directory = directory + \"/FUNCTIONS/\"\n",
    "sys.path.append(library_directory)\n",
    "print (\"\\nupload files are in the INPUT folder (or create file with notebook)\\n\")\n",
    "# database import and check \n",
    "from MIQUALAT_data_import_and_check import *\n",
    "\n",
    "'''\n",
    "call the database_security_checker() function\n",
    "that once the entries check and if there are no warnings\n",
    "calls the database_importer()# function\n",
    "'''\n",
    "\n",
    "file_directory = directory + \"/INPUT/\"\n",
    "# call of the function datanase_import_data_selector: to import selected data table in MIQUALAT#\n",
    "database_import_data_selector(file_directory)"
   ]
  },
  {
   "cell_type": "code",
   "execution_count": null,
   "metadata": {},
   "outputs": [],
   "source": []
  }
 ],
 "metadata": {
  "kernelspec": {
   "display_name": "Python 3",
   "language": "python",
   "name": "python3"
  },
  "language_info": {
   "codemirror_mode": {
    "name": "ipython",
    "version": 3
   },
   "file_extension": ".py",
   "mimetype": "text/x-python",
   "name": "python",
   "nbconvert_exporter": "python",
   "pygments_lexer": "ipython3",
   "version": "3.8.5"
  }
 },
 "nbformat": 4,
 "nbformat_minor": 4
}
