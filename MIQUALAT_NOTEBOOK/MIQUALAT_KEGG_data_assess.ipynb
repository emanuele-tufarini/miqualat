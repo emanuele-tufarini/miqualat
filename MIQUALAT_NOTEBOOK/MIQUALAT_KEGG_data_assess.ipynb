{
 "cells": [
  {
   "cell_type": "markdown",
   "metadata": {},
   "source": [
    "RUN TO INSTALL REQUISITES"
   ]
  },
  {
   "cell_type": "code",
   "execution_count": 3,
   "metadata": {},
   "outputs": [
    {
     "name": "stdout",
     "output_type": "stream",
     "text": [
      "Looking in indexes: https://pypi.org/simple, https://www.piwheels.org/simple\n",
      "Requirement already satisfied: biopython in /usr/local/lib/python3.7/dist-packages (1.78)\n",
      "Requirement already satisfied: numpy in /usr/local/lib/python3.7/dist-packages (from biopython) (1.19.4)\n",
      "Looking in indexes: https://pypi.org/simple, https://www.piwheels.org/simple\n",
      "Requirement already satisfied: ensembl-rest in /usr/local/lib/python3.7/dist-packages (0.3.3)\n",
      "Requirement already satisfied: requests in /usr/lib/python3/dist-packages (from ensembl-rest) (2.21.0)\n",
      "Requirement already satisfied: importlib-resources in /usr/local/lib/python3.7/dist-packages (from ensembl-rest) (3.3.0)\n",
      "Requirement already satisfied: intervaltree in /usr/local/lib/python3.7/dist-packages (from ensembl-rest) (3.1.0)\n",
      "Requirement already satisfied: simplejson in /usr/local/lib/python3.7/dist-packages (from ensembl-rest) (3.17.2)\n",
      "Requirement already satisfied: zipp>=0.4; python_version < \"3.8\" in /usr/local/lib/python3.7/dist-packages (from importlib-resources->ensembl-rest) (3.4.0)\n",
      "Requirement already satisfied: sortedcontainers<3.0,>=2.0 in /usr/local/lib/python3.7/dist-packages (from intervaltree->ensembl-rest) (2.3.0)\n",
      "Looking in indexes: https://pypi.org/simple, https://www.piwheels.org/simple\n",
      "Requirement already satisfied: mygene in /usr/local/lib/python3.7/dist-packages (3.1.0)\n",
      "Requirement already satisfied: biothings-client>=0.2.0 in /usr/local/lib/python3.7/dist-packages (from mygene) (0.2.3)\n",
      "Requirement already satisfied: requests>=2.3.0 in /usr/lib/python3/dist-packages (from biothings-client>=0.2.0->mygene) (2.21.0)\n",
      "Requirement already satisfied: nose in /usr/local/lib/python3.7/dist-packages (from biothings-client>=0.2.0->mygene) (1.3.7)\n",
      "\n",
      "all done ..\n"
     ]
    }
   ],
   "source": [
    "\n",
    "'''\n",
    "emanuele.tufarini@live.com\n",
    "last modification 11-2020\n",
    "'''\n",
    "\n",
    "!pip3 install biopython \n",
    "!pip3 install ensembl-rest\n",
    "!pip3 install mygene\n",
    "\n",
    "print (\"\\nall done ..\")\n"
   ]
  },
  {
   "cell_type": "markdown",
   "metadata": {},
   "source": [
    "RUN TO IMPORT FUNCTIONS"
   ]
  },
  {
   "cell_type": "code",
   "execution_count": 1,
   "metadata": {},
   "outputs": [
    {
     "name": "stdout",
     "output_type": "stream",
     "text": [
      "\n",
      "all done ..\n"
     ]
    }
   ],
   "source": [
    "\n",
    "from Bio.KEGG import REST\n",
    "\n",
    "print(\"\\nall done ..\")\n"
   ]
  },
  {
   "cell_type": "markdown",
   "metadata": {},
   "source": [
    "RUN TO CREATE DOWNLOAD ALL KEGG PATHWAY"
   ]
  },
  {
   "cell_type": "code",
   "execution_count": 2,
   "metadata": {},
   "outputs": [
    {
     "name": "stdout",
     "output_type": "stream",
     "text": [
      "enter <org> kegg code for download all kegg pathways (ex bta): bta\n",
      "\n",
      "all done .. ALL_KEGG_PATH.csv file has been moved to OUTPUT folder ..\n"
     ]
    }
   ],
   "source": [
    "\n",
    "org_code = input (\"enter <org> kegg code for download all kegg pathways (ex bta): \")\n",
    "\n",
    "# all bos taurus pathway\n",
    "result = REST.kegg_list(\"pathway\").read()\n",
    "# map - reference pathway\n",
    "# bta - bos taurus pathway\n",
    "result = result.replace(\"\\t\",'\",\"pathway\",\"')\n",
    "result = result.replace(\"path:\",'\"path:')\n",
    "result = result.replace(\"\\n\",'\"\\n')\n",
    "\n",
    "result = result.replace(\"map\",org_code)\n",
    "with open (\"ALL_KEGG_PATH.csv\", \"w\") as f:\n",
    "    f.write(\"kegg_ID,kegg_object_type,kegg_object_name\\n\")\n",
    "    f.write(result)\n",
    "!mv ALL_KEGG_PATH.csv INPUT/\n",
    "\n",
    "print (\"\\nall done .. ALL_KEGG_PATH.csv file has been moved to INPUT folder ..\")\n"
   ]
  },
  {
   "cell_type": "markdown",
   "metadata": {},
   "source": [
    "RUN TO CREATE DOWNLOAD ALL KEGG GENES"
   ]
  },
  {
   "cell_type": "code",
   "execution_count": 4,
   "metadata": {},
   "outputs": [
    {
     "name": "stdout",
     "output_type": "stream",
     "text": [
      "enter <org> kegg code for download all kegg genes (ex bta): bta\n",
      "\n",
      "all done .. ALL_KEGG_GENE.csv file has been moved to OUTPUT folder ..\n"
     ]
    }
   ],
   "source": [
    "\n",
    "org_code = input (\"enter <org> kegg code for download all kegg genes (ex bta): \")\n",
    "\n",
    "# all bos taurus gene\n",
    "result = REST.kegg_list(org_code).read()\n",
    "# kegg <org> database (bta - bos taurus)\n",
    "result = result.replace(\"\\t\",'\",\"gene\",\"')\n",
    "result = result.replace(org_code + \":\",'\"' + org_code + ':')\n",
    "result = result.replace(\"\\n\",'\"\\n')\n",
    "with open (\"ALL_KEGG_GENE.csv\", \"w\") as f:\n",
    "    f.write(\"kegg_ID,kegg_object_type,kegg_object_name\\n\")\n",
    "    f.write(result)\n",
    "!mv ALL_KEGG_GENE.csv INPUT/\n",
    "\n",
    "print (\"\\nall done .. ALL_KEGG_GENE.csv file has been moved to INPUT folder ..\")\n"
   ]
  }
 ],
 "metadata": {
  "kernelspec": {
   "display_name": "Python 3",
   "language": "python",
   "name": "python3"
  },
  "language_info": {
   "codemirror_mode": {
    "name": "ipython",
    "version": 3
   },
   "file_extension": ".py",
   "mimetype": "text/x-python",
   "name": "python",
   "nbconvert_exporter": "python",
   "pygments_lexer": "ipython3",
   "version": "3.7.3"
  }
 },
 "nbformat": 4,
 "nbformat_minor": 4
}
