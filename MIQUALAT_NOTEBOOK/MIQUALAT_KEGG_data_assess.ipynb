{
 "cells": [
  {
   "cell_type": "markdown",
   "metadata": {},
   "source": [
    "run to create table KEGG for PATHWAY"
   ]
  },
  {
   "cell_type": "code",
   "execution_count": 2,
   "metadata": {},
   "outputs": [
    {
     "name": "stdout",
     "output_type": "stream",
     "text": [
      "enter <org> kegg code for download all kegg pathways (ex bta): bta\n",
      "\n",
      "all done .. ALL_KEGG_PATH.csv file has been moved to INPUT folder ..\n"
     ]
    }
   ],
   "source": [
    "'''\n",
    "pignotti.danilo@gmail.com\n",
    "emanuele.tufarini@live.com\n",
    "last modification 12/2020\n",
    "'''\n",
    "\n",
    "import os\n",
    "PATH = os.getcwd()\n",
    "from Bio.KEGG import REST\n",
    "FILE_PATH = PATH + \"/INPUT/\"\n",
    "org_code = input (\"enter <org> kegg code for download all kegg pathways (ex bta): \")\n",
    "\n",
    "# all bos taurus pathway\n",
    "result = REST.kegg_list(\"pathway\",org_code).read()\n",
    "# map - reference pathway\n",
    "# bta - bos taurus pathway\n",
    "result = result.replace(\"\\t\",'\",\"pathway\",\"')\n",
    "result = result.replace(\"path:\",'\"path:')\n",
    "result = result.replace(\"\\n\",'\"\\n')\n",
    "os.chdir(FILE_PATH)\n",
    "with open (\"ALL_KEGG_PATH.csv\", \"w\") as f:\n",
    "    f.write(\"kegg_ID,kegg_object_type,kegg_object_name\\n\")\n",
    "    f.write(result)\n",
    "os.chdir(PATH)\n",
    "print (\"\\nall done .. ALL_KEGG_PATH.csv file has been moved to INPUT folder ..\")"
   ]
  },
  {
   "cell_type": "markdown",
   "metadata": {},
   "source": [
    "run to create table KEGG for GENES"
   ]
  },
  {
   "cell_type": "code",
   "execution_count": null,
   "metadata": {},
   "outputs": [],
   "source": [
    "'''\n",
    "pignotti.danilo@gmail.com\n",
    "emanuele.tufarini@live.com\n",
    "last modification 12/2020\n",
    "'''\n",
    "\n",
    "import os\n",
    "PATH = os.getcwd()\n",
    "from Bio.KEGG import REST\n",
    "FILE_PATH = PATH + \"/INPUT/\"\n",
    "\n",
    "org_code = input (\"enter <org> kegg code for download all kegg genes (ex bta): \")\n",
    "\n",
    "# all bos taurus gene\n",
    "result = REST.kegg_list(org_code).read()\n",
    "# kegg <org> database (bta - bos taurus)\n",
    "result = result.replace(\"\\t\",'\",\"gene\",\"')\n",
    "result = result.replace(org_code + \":\",'\"' + org_code + ':')\n",
    "result = result.replace(\"\\n\",'\"\\n')\n",
    "os.chdir(FILE_PATH)\n",
    "with open (\"ALL_KEGG_GENE.csv\", \"w\") as f:\n",
    "    f.write(\"kegg_ID,kegg_object_type,kegg_object_name\\n\")\n",
    "    f.write(result)\n",
    "os.chdir(PATH)\n",
    "\n",
    "print (\"\\nall done .. ALL_KEGG_GENE.csv file has been moved to INPUT folder ..\")\n"
   ]
  }
 ],
 "metadata": {
  "kernelspec": {
   "display_name": "Python 3",
   "language": "python",
   "name": "python3"
  },
  "language_info": {
   "codemirror_mode": {
    "name": "ipython",
    "version": 3
   },
   "file_extension": ".py",
   "mimetype": "text/x-python",
   "name": "python",
   "nbconvert_exporter": "python",
   "pygments_lexer": "ipython3",
   "version": "3.7.3"
  }
 },
 "nbformat": 4,
 "nbformat_minor": 4
}
