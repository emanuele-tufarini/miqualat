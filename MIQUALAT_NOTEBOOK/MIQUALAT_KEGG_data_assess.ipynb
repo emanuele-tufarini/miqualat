{
 "cells": [
  {
   "cell_type": "markdown",
   "metadata": {},
   "source": [
    "# run to create KEGG table"
   ]
  },
  {
   "cell_type": "code",
   "execution_count": null,
   "metadata": {},
   "outputs": [],
   "source": [
    "'''\n",
    "pignotti.danilo@gmail.com\n",
    "emanuele.tufarini@live.com\n",
    "last modification 12/2020\n",
    "'''\n",
    "\n",
    "import os\n",
    "directory = os.getcwd()\n",
    "from Bio.KEGG import REST\n",
    "file_directory = directory + \"/INPUT/\"\n",
    "choise=input(\"enter 1:download all <ORG> pathways, 2:download all <ORG> genes: \")\n",
    "print (\"\\n\")\n",
    "if choise==\"1\":\n",
    "    org_code = input (\"enter <org> kegg code for download all kegg pathways (ex bta): \")\n",
    "    # all bos taurus pathway\n",
    "    result = REST.kegg_list(\"pathway\",org_code).read()\n",
    "    # map - reference pathway\n",
    "    # bta - bos taurus pathway\n",
    "    result = result.replace(\"\\t\",'\",\"pathway\",\"')\n",
    "    result = result.replace(\"path:\",'\"path:')\n",
    "    result = result.replace(\"\\n\",'\"\\n')\n",
    "    os.chdir(file_directory)\n",
    "    with open (\"ALL_KEGG_directory.csv\", \"w\") as f:\n",
    "        f.write(\"kegg_ID,kegg_object_type,kegg_object_name\\n\")\n",
    "        f.write(result)\n",
    "    os.chdir(directory)\n",
    "    print (\"\\nall done .. ALL_KEGG_directory.csv file has been moved to INPUT folder ..\")\n",
    "elif choise==\"2\":\n",
    "    org_code = input (\"enter <org> kegg code for download all kegg genes (ex bta): \")\n",
    "    # all bos taurus gene\n",
    "    result = REST.kegg_list(org_code).read()\n",
    "    # kegg <org> database (bta - bos taurus)\n",
    "    result = result.replace(\"\\t\",'\",\"gene\",\"')\n",
    "    result = result.replace(org_code + \":\",'\"' + org_code + ':')\n",
    "    result = result.replace(\"\\n\",'\"\\n')\n",
    "    os.chdir(file_directory)\n",
    "    with open (\"ALL_KEGG_GENE.csv\", \"w\") as f:\n",
    "        f.write(\"kegg_ID,kegg_object_type,kegg_object_name\\n\")\n",
    "        f.write(result)\n",
    "    os.chdir(directory)\n",
    "    print (\"\\nall done .. ALL_KEGG_GENE.csv file has been moved to INPUT folder ..\")\n",
    "else:\n",
    "    print (\"please enter 1 or 2\")"
   ]
  }
 ],
 "metadata": {
  "kernelspec": {
   "display_name": "Python 3",
   "language": "python",
   "name": "python3"
  },
  "language_info": {
   "codemirror_mode": {
    "name": "ipython",
    "version": 3
   },
   "file_extension": ".py",
   "mimetype": "text/x-python",
   "name": "python",
   "nbconvert_exporter": "python",
   "pygments_lexer": "ipython3",
   "version": "3.7.3"
  }
 },
 "nbformat": 4,
 "nbformat_minor": 4
}
