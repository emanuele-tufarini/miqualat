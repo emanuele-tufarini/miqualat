{
 "cells": [
  {
   "cell_type": "markdown",
   "metadata": {},
   "source": [
    "# run to search in pubmed or create PUBLICATION table"
   ]
  },
  {
   "cell_type": "code",
   "execution_count": 1,
   "metadata": {
    "scrolled": false
   },
   "outputs": [
    {
     "name": "stdout",
     "output_type": "stream",
     "text": [
      "insert your e-mail: \n",
      "\n",
      "\n",
      "boolean operators supported are AND OR NOT \n",
      "combining search terms with key1+key2 ex statistical+analysis \n",
      "\n",
      "enter article query ex \"glutathione and (cow or cattle or bos) and (milk or lactation)\": \n",
      "glutathione \n",
      "\n",
      "\n",
      "enter title query ex \"gene or expression\": \n",
      "glutathione \n",
      "\n",
      "\n",
      "Enter your name: emanuele\n",
      "Enter your surname: tufarini\n",
      "\n",
      "\n",
      "keyword in articles: (glutathione )\n",
      "keyword in titles: (glutathione[title] [title])\n",
      "\n",
      "RESULT 1 | TITLE | Relationship between redox potential of glutathione and DNA methylation level in liver of newborn guinea pigs. | PMID | 32594836 | DOI | 10.1080/15592294.2020.1781024 | AUTHORS | Mungala Lengo A, Guiraut C, Mohamed I, Lavoie JC | JOURNAL | Epigenetics | DATA | 2020 | URL | https://www.ncbi.nlm.nih.gov/pubmed/?term=32594836\n",
      "\n",
      "RESULT 2 | TITLE | Preparation of N-tBoc L-glutathione dimethyl and di-tert-butyl esters: versatile synthetic building blocks. | PMID | 17070060 | DOI | 10.1016/j.bmc.2006.10.022 | AUTHORS | Falck JR, Sangras B, Capdevila JH | JOURNAL | Bioorg Med Chem | DATA | 2007 | URL | https://www.ncbi.nlm.nih.gov/pubmed/?term=17070060\n",
      "\n",
      "RESULT 3 | TITLE | Synthesis and biological evaluation of the disulfide form of the glutathione analogue gamma-(L-glutamyl)-L-cysteinyl-L-aspartyl-L-cysteine. | PMID | 12729568 | DOI | 10.1016/s0045-2068(03)00022-1 | AUTHORS | Cacciatore I, Di Stefano A, Dupre S, Morera E, Pinnen F, Spirito A | JOURNAL | Bioorg Chem | DATA | 2003 | URL | https://www.ncbi.nlm.nih.gov/pubmed/?term=12729568\n",
      "\n",
      "RESULT 4 | TITLE | The use of mass spectrometry in the study of chemically-reactive drug metabolites. Application of MS/MS and LC/MS to the analysis of glutathione- and related S-linked conjugates of N-methylformamide. | PMID | 2490521 | DOI | 10.1016/0731-7085(89)80140-2 | AUTHORS | Baillie TA, Pearson PG, Rashed MS, Howald WN | JOURNAL | J Pharm Biomed Anal | DATA | 1989 | URL | https://www.ncbi.nlm.nih.gov/pubmed/?term=2490521\n",
      "\n",
      "\n",
      "enter 'exit' for quit or leave empty\n",
      "\n",
      "enter the title number for print the article/s (1,2,3,4,5 .. ): 1,2,3\n",
      "article 1 has been written .. all done ..\n",
      "article 2 has been written .. all done ..\n",
      "article 3 has been written .. all done ..\n",
      "\n",
      "see you later!\n",
      "\n",
      "all done .. PUBMED_SEARCH_DATA_Y-m-d_H-M-S.txt has been moved to INPUT folder\n",
      "\n",
      "all done .. PUBLICATION.csv has been moved to INPUT folder\n"
     ]
    }
   ],
   "source": [
    "'''\n",
    "pignotti.danilo@gmail.com\n",
    "emanuele.tufarini@live.com\n",
    "last modification 12/2020\n",
    "'''\n",
    "\n",
    "import os, sys, datetime\n",
    "directory = os.getcwd()\n",
    "# import functions from the functions\n",
    "library_directory = directory + \"/FUNCTIONS\"\n",
    "sys.path.append(library_directory)\n",
    "input_directory = directory + \"/INPUT\"\n",
    "from pubmed_search import *\n",
    "os.chdir(input_directory)\n",
    "print (\"\\n\")\n",
    "keyword = input('boolean operators supported are AND OR NOT \\n\\\n",
    "combining search terms with key1+key2 ex statistical+analysis \\n\\n\\\n",
    "enter article query ex \"glutathione and (cow or cattle or bos) and (milk or lactation)\": \\n')\n",
    "print (\"\\n\")\n",
    "# enter keyword[title] (search in the title of articles)\n",
    "# or \"\" (search only keyword in the articles)\n",
    "# use and or not boolean operators\n",
    "keyword_title = input('enter title query ex \"gene or expression\": \\n')\n",
    "\n",
    "if keyword_title != \"\":\n",
    "    keyword_title=keyword_title.split(\" \")\n",
    "    #auto insert [title]\n",
    "\n",
    "    list_keyword_title = [k.replace(\")\", \"@@)\") for k in keyword_title]\n",
    "    list_keyword_title = [y for x in list_keyword_title for y in x.split(\"@@\")]  \n",
    "    list_keyword_title = [x+\"[title]\" if x.lower()!=\"and\" and x.lower()!=\"or\" and x.lower()!=\"not\" and x.lower()!=\")\" else x for x in list_keyword_title]\n",
    "\n",
    "    keyword_title=(' '.join(list_keyword_title))\n",
    "\n",
    "else:\n",
    "    keyword_title = \"\"\n",
    "\n",
    "print (\"\\n\")\n",
    "pubmed_search(keyword, keyword_title)\n",
    "os.chdir(directory)\n",
    "print(\"\\nall done .. PUBMED_SEARCH_DATA_Y-m-d_H-M-S.txt has been moved to INPUT folder\")\n",
    "print(\"\\nall done .. PUBLICATION.csv has been moved to INPUT folder\")"
   ]
  },
  {
   "cell_type": "code",
   "execution_count": null,
   "metadata": {},
   "outputs": [],
   "source": []
  }
 ],
 "metadata": {
  "kernelspec": {
   "display_name": "Python 3",
   "language": "python",
   "name": "python3"
  },
  "language_info": {
   "codemirror_mode": {
    "name": "ipython",
    "version": 3
   },
   "file_extension": ".py",
   "mimetype": "text/x-python",
   "name": "python",
   "nbconvert_exporter": "python",
   "pygments_lexer": "ipython3",
   "version": "3.8.5"
  }
 },
 "nbformat": 4,
 "nbformat_minor": 4
}
