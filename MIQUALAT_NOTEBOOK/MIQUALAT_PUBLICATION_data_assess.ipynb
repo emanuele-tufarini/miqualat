{
 "cells": [
  {
   "cell_type": "markdown",
   "metadata": {},
   "source": [
    "run to create table PUBLICATION"
   ]
  },
  {
   "cell_type": "code",
   "execution_count": null,
   "metadata": {
    "scrolled": false
   },
   "outputs": [],
   "source": [
    "'''\n",
    "pignotti.danilo@gmail.com\n",
    "emanuele.tufarini@live.com\n",
    "last modification 12/2020\n",
    "'''\n",
    "\n",
    "import os, sys, datetime\n",
    "PATH = os.getcwd()\n",
    "# import functions from the functions\n",
    "LIBRARY_PATH = PATH + \"/FUNCTIONS\"\n",
    "sys.path.append(LIBRARY_PATH)\n",
    "INPUT_PATH = PATH + \"/INPUT\"\n",
    "from pubmed_search import *\n",
    "\n",
    "os.chdir(INPUT_PATH)\n",
    "print (\"\\n\")\n",
    "keyword = input('boolean operators supported are AND OR NOT \\n\\n\\\n",
    "enter article query ex \"glutathione and (cow or cattle or bos) and (milk or lactation)\": \\n')\n",
    "print (\"\\n\")\n",
    "# enter keyword[title] (search in the title of articles)\n",
    "# or \"\" (search only keyword in the articles)\n",
    "# use and or not boolean operators\n",
    "keyword_title = input('enter title query ex \"gene or expression\": \\n')\n",
    "keyword_title=keyword_title.split(\" \")\n",
    "#auto insert [title]\n",
    "list_keyword_title = [x+\"[title]\" if x.lower()!=\"and\" and x.lower()!=\"or\" and x.lower()!=\"not\" else x for x in keyword_title]\n",
    "keyword_title=(' '.join(list_keyword_title))\n",
    "print (\"\\n\")\n",
    "pubmed_search(keyword, keyword_title)\n",
    "os.chdir(PATH)\n",
    "print(\"\\nall done .. PUBMED_SEARCH_DATA_Y-m-d_H-M-S.txt has been moved to INPUT folder\")\n",
    "print(\"\\nall done .. PUBLICATION.csv has been moved to INPUT folder\")"
   ]
  }
 ],
 "metadata": {
  "kernelspec": {
   "display_name": "Python 3",
   "language": "python",
   "name": "python3"
  },
  "language_info": {
   "codemirror_mode": {
    "name": "ipython",
    "version": 3
   },
   "file_extension": ".py",
   "mimetype": "text/x-python",
   "name": "python",
   "nbconvert_exporter": "python",
   "pygments_lexer": "ipython3",
   "version": "3.7.3"
  }
 },
 "nbformat": 4,
 "nbformat_minor": 4
}
