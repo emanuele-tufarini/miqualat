{
 "cells": [
  {
   "cell_type": "markdown",
   "metadata": {},
   "source": [
    "run to create table PUBLICATION"
   ]
  },
  {
   "cell_type": "code",
   "execution_count": 1,
   "metadata": {
    "scrolled": false
   },
   "outputs": [
    {
     "name": "stdout",
     "output_type": "stream",
     "text": [
      "insert your e-mail: e\n",
      "\n",
      "\n",
      "boolean operators supported are AND OR NOT \n",
      "combining search terms with key1+key2 ex linear+regression \n",
      "\n",
      "enter article query ex \"glutathione and (cow or cattle or bos) and (milk or lactation)\": \n",
      "\n",
      "\n",
      "\n",
      "enter title query ex \"gene or expression\": \n",
      "\n",
      "\n",
      "\n",
      "keyword in articles: ()\n",
      "keyword in titles: ([title])\n",
      "\n",
      "RESULT 1 | TITLE | Molecular docking and synthesis of caffeic acid analogous and its anti-inflammatory, analgesic and ulcerogenic studies. | PMID | 33316405 | DOI | 10.1016/j.bmcl.2020.127743 | AUTHORS | Hezam Al-Ostoot F, Zabiulla, S G, Hussein Eissa Mohammed Y, Vivek HK, Ara Khanum S | JOURNAL | Bioorg Med Chem Lett | DATA | 2020 | URL | https://www.ncbi.nlm.nih.gov/pubmed/?term=33316405\n",
      "\n",
      "RESULT 2 | TITLE | The Emerging Hazard of AI-Related Health Care Discrimination. | PMID | 33315263 | DOI | 10.1002/hast.1203 | AUTHORS | Hoffman S | JOURNAL | Hastings Cent Rep | DATA | 2020 | URL | https://www.ncbi.nlm.nih.gov/pubmed/?term=33315263\n",
      "\n",
      "RESULT 3 | TITLE | Beyond the black stump: rapid reviews of health research issues affecting regional, rural and remote Australia. | PMID | 33314144 | DOI | 10.5694/mja2.50881 | AUTHORS | Osborne SR, Alston LV, Bolton KA, Whelan J, Reeve E, Wong Shee A, Browne J, Walker T, Versace VL, Allender S, Nichols M, Backholer K, Goodwin N, Lewis S, Dalton H, Prael G, Curtin M, Brooks R, Verdon S, Crockett J, Hodgins G, Walsh S, Lyle DM, Thompson SC, Browne LJ, Knight S, Pit SW, Jones M, Gillam MH, Leach MJ, Gonzalez-Chica DA, Muyambi K, Eshetie T, Tran K, May E, Lieschke G, Parker V, Smith A, Hayes C, Dunlop AJ, Rajappa H, White R, Oakley P, Holliday S | JOURNAL | Med J Aust | DATA | 2020 | URL | https://www.ncbi.nlm.nih.gov/pubmed/?term=33314144\n",
      "\n",
      "RESULT 4 | TITLE | Research trends and performances of breast reconstruction: a bibliometric analysis. | PMID | 33313274 | DOI | 10.21037/atm-20-3476 | AUTHORS | Li Y, Wang X, Thomsen JB, Nahabedian MY, Ishii N, Rozen WM, Long X, Ho YS | JOURNAL | Ann Transl Med | DATA | 2020 | URL | https://www.ncbi.nlm.nih.gov/pubmed/?term=33313274\n",
      "\n",
      "RESULT 5 | TITLE | Analysis of worldwide surgical outcomes in COVID-19-infected patients: a gynecological oncology perspective. | PMID | 33312692 | DOI | 10.2144/fsoa-2020-0099 | AUTHORS | Phelps DL, Saso S, Ghaem-Maghami S | JOURNAL | Future Sci OA | DATA | 2020 | URL | https://www.ncbi.nlm.nih.gov/pubmed/?term=33312692\n",
      "\n",
      "RESULT 6 | TITLE | Hydroids (Cnidaria, Hydrozoa) from Mauritanian Coral Mounds. | PMID | 33311142 | DOI | 10.11646/zootaxa.4878.3.2 | AUTHORS | Gil M, Ramil F, AgIs JA | JOURNAL | Zootaxa | DATA | 2020 | URL | https://www.ncbi.nlm.nih.gov/pubmed/?term=33311142\n",
      "\n",
      "RESULT 7 | TITLE | What animal models can tell us about long-term cognitive dysfunction following sepsis: A systematic review. | PMID | 33309906 | DOI | 10.1016/j.neubiorev.2020.12.005 | AUTHORS | Savi FF, de Oliveira A, de Medeiros GF, Bozza FA, Michels M, Sharshar T, Dal-Pizzol F, Ritter C | JOURNAL | Neurosci Biobehav Rev | DATA | 2020 | URL | https://www.ncbi.nlm.nih.gov/pubmed/?term=33309906\n",
      "\n",
      "RESULT 8 | TITLE | Fungal beta-glucans as adjuvants for treating cancer patients - A systematic review of clinical trials. | PMID | 33309412 | DOI | 10.1016/j.clnu.2020.11.029 | AUTHORS | Steimbach L, Borgmann AV, Gomar GG, Hoffmann LV, Rutckeviski R, de Andrade DP, Smiderle FR | JOURNAL | Clin Nutr | DATA | 2020 | URL | https://www.ncbi.nlm.nih.gov/pubmed/?term=33309412\n",
      "\n",
      "RESULT 9 | TITLE | Implications of musical practice in central auditory processing: a systematic review. | PMID | 33309194 | DOI | 10.1016/j.bjorl.2020.10.007 | AUTHORS | Braz CH, Goncalves LF, Paiva KM, Haas P, Patatt FSA | JOURNAL | Braz J Otorhinolaryngol | DATA | 2020 | URL | https://www.ncbi.nlm.nih.gov/pubmed/?term=33309194\n",
      "\n",
      "RESULT 10 | TITLE | Systematic review of Marburg virus vaccine nonhuman primate studies and human clinical trials. | PMID | 33309082 | DOI | 10.1016/j.vaccine.2020.11.042 | AUTHORS | Dulin N, Spanier A, Merino K, Hutter JN, Waterman PE, Lee C, Hamer MJ | JOURNAL | Vaccine | DATA | 2020 | URL | https://www.ncbi.nlm.nih.gov/pubmed/?term=33309082\n",
      "\n",
      "RESULT 11 | TITLE | Aligning text mining and machine learning algorithms with best practices for study selection in systematic literature reviews. | PMID | 33308292 | DOI | 10.1186/s13643-020-01520-5 | AUTHORS | Popoff E, Besada M, Jansen JP, Cope S, Kanters S | JOURNAL | Syst Rev | DATA | 2020 | URL | https://www.ncbi.nlm.nih.gov/pubmed/?term=33308292\n",
      "\n",
      "RESULT 12 | TITLE | In4Pb5.5Sb5S19: A Stable Quaternary Chalcogenide with Low Thermal Conductivity. | PMID | 33305940 | DOI | 10.1021/acs.inorgchem.0c02966 | AUTHORS | Li J, Hao S, Qu S, Wolverton C, Zhao J, Wang Y | JOURNAL | Inorg Chem | DATA | 2020 | URL | https://www.ncbi.nlm.nih.gov/pubmed/?term=33305940\n",
      "\n",
      "RESULT 13 | TITLE | A biomolecular anthropological investigation of William Adams, the first SAMURAI from England. | PMID | 33303940 | DOI | 10.1038/s41598-020-78723-2 | AUTHORS | Mizuno F, Ishiya K, Matsushita M, Matsushita T, Hampson K, Hayashi M, Tokanai F, Kurosaki K, Ueda S | JOURNAL | Sci Rep | DATA | 2020 | URL | https://www.ncbi.nlm.nih.gov/pubmed/?term=33303940\n",
      "\n",
      "RESULT 14 | TITLE | The empirical evidence underpinning the concept and practice of person-centred care for serious illness: a systematic review. | PMID | 33303515 | DOI | 10.1136/bmjgh-2020-003330 | AUTHORS | Giusti A, Nkhoma K, Petrus R, Petersen I, Gwyther L, Farrant L, Venkatapuram S, Harding R | JOURNAL | BMJ Glob Health | DATA | 2020 | URL | https://www.ncbi.nlm.nih.gov/pubmed/?term=33303515\n",
      "\n",
      "RESULT 15 | TITLE | The time to act is now: pseudo-systematic review. | PMID | 33303482 | DOI | 10.1136/bmj.m4143 | AUTHORS | Ford N, Brigden G, Ellman T, Mills EJ | JOURNAL | BMJ | DATA | 2020 | URL | https://www.ncbi.nlm.nih.gov/pubmed/?term=33303482\n",
      "\n",
      "RESULT 16 | TITLE | Impact of State-Level Reproductive Health Legislation on Access to and Use of Reproductive Health Services and Reproductive Health Outcomes: A Systematic Scoping Review in the Affordable Care Act Era. | PMID | 33303355 | DOI | 10.1016/j.whi.2020.11.005 | AUTHORS | Bossick AS, Brown J, Hanna A, Parrish C, Williams EC, Katon JG | JOURNAL | Womens Health Issues | DATA | 2020 | URL | https://www.ncbi.nlm.nih.gov/pubmed/?term=33303355\n",
      "\n",
      "RESULT 17 | TITLE | Forces Between 50 and 100 cN May be Best for Mesiodistal Orthodontic Tooth Movements by Fixed Appliances. | PMID | 33303099 | DOI | 10.1016/j.jebdp.2020.101490 | AUTHORS | Flores-Mir C | JOURNAL | J Evid Based Dent Pract | DATA | 2020 | URL | https://www.ncbi.nlm.nih.gov/pubmed/?term=33303099\n",
      "\n",
      "RESULT 18 | TITLE | Fluoride Varnish Application in Preschoolers Have a Modest Effectiveness in Reducing the Incidence of Dentinal Caries. | PMID | 33303097 | DOI | 10.1016/j.jebdp.2020.101489 | AUTHORS | Bakhurji E | JOURNAL | J Evid Based Dent Pract | DATA | 2020 | URL | https://www.ncbi.nlm.nih.gov/pubmed/?term=33303097\n",
      "\n",
      "RESULT 19 | TITLE | Immediate and Conventional Loading of a Single Dental Implant Placed in the Esthetic Zone May Yield Comparable Clinical Outcomes. | PMID | 33303096 | DOI | 10.1016/j.jebdp.2020.101492 | AUTHORS | Alqutaibi AY, Hussain BS, Alobodi AK | JOURNAL | J Evid Based Dent Pract | DATA | 2020 | URL | https://www.ncbi.nlm.nih.gov/pubmed/?term=33303096\n",
      "\n",
      "RESULT 20 | TITLE | Fever and Other Clinical Indicators May Fail to Detect COVID-19-Infected Individuals. | PMID | 33303095 | DOI | 10.1016/j.jebdp.2020.101499 | AUTHORS | Markowitz K, Strickland M, Huang A | JOURNAL | J Evid Based Dent Pract | DATA | 2020 | URL | https://www.ncbi.nlm.nih.gov/pubmed/?term=33303095\n",
      "\n",
      "\n",
      "enter 'exit' for quit or leave empty\n",
      "\n",
      "enter the title number for print the article/s: \n",
      "article    not found, are aviable  20  article/s\n",
      "\n",
      "see you later!\n",
      "\n",
      "all done .. PUBMED_SEARCH_DATA_Y-m-d_H-M-S.txt has been moved to INPUT folder\n",
      "\n",
      "all done .. PUBLICATION.csv has been moved to INPUT folder\n"
     ]
    }
   ],
   "source": [
    "'''\n",
    "pignotti.danilo@gmail.com\n",
    "emanuele.tufarini@live.com\n",
    "last modification 12/2020\n",
    "'''\n",
    "\n",
    "import os, sys, datetime\n",
    "PATH = os.getcwd()\n",
    "# import functions from the functions\n",
    "LIBRARY_PATH = PATH + \"/FUNCTIONS\"\n",
    "sys.path.append(LIBRARY_PATH)\n",
    "INPUT_PATH = PATH + \"/INPUT\"\n",
    "from pubmed_search import *\n",
    "\n",
    "os.chdir(INPUT_PATH)\n",
    "print (\"\\n\")\n",
    "keyword = input('boolean operators supported are AND OR NOT \\n\\\n",
    "combining search terms with key1+key2 ex linear+regression \\n\\n\\\n",
    "enter article query ex \"glutathione and (cow or cattle or bos) and (milk or lactation)\": \\n')\n",
    "print (\"\\n\")\n",
    "# enter keyword[title] (search in the title of articles)\n",
    "# or \"\" (search only keyword in the articles)\n",
    "# use and or not boolean operators\n",
    "keyword_title = input('enter title query ex \"gene or expression\": \\n')\n",
    "keyword_title=keyword_title.split(\" \")\n",
    "#auto insert [title]\n",
    "list_keyword_title = [x+\"[title]\" if x.lower()!=\"and\" and x.lower()!=\"or\" and x.lower()!=\"not\" else x for x in keyword_title]\n",
    "keyword_title=(' '.join(list_keyword_title))\n",
    "print (\"\\n\")\n",
    "pubmed_search(keyword, keyword_title)\n",
    "os.chdir(PATH)\n",
    "print(\"\\nall done .. PUBMED_SEARCH_DATA_Y-m-d_H-M-S.txt has been moved to INPUT folder\")\n",
    "print(\"\\nall done .. PUBLICATION.csv has been moved to INPUT folder\")"
   ]
  },
  {
   "cell_type": "code",
   "execution_count": null,
   "metadata": {},
   "outputs": [],
   "source": []
  }
 ],
 "metadata": {
  "kernelspec": {
   "display_name": "Python 3",
   "language": "python",
   "name": "python3"
  },
  "language_info": {
   "codemirror_mode": {
    "name": "ipython",
    "version": 3
   },
   "file_extension": ".py",
   "mimetype": "text/x-python",
   "name": "python",
   "nbconvert_exporter": "python",
   "pygments_lexer": "ipython3",
   "version": "3.7.3"
  }
 },
 "nbformat": 4,
 "nbformat_minor": 4
}
