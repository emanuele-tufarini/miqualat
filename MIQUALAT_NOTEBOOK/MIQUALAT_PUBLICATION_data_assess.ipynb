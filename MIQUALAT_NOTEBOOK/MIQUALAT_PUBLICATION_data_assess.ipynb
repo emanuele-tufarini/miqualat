{
 "cells": [
  {
   "cell_type": "markdown",
   "metadata": {},
   "source": [
    "# run to search in pubmed or create PUBLICATION table"
   ]
  },
  {
   "cell_type": "code",
   "execution_count": 1,
   "metadata": {
    "scrolled": false
   },
   "outputs": [
    {
     "name": "stdout",
     "output_type": "stream",
     "text": [
      "insert your e-mail: \n",
      "\n",
      "\n",
      "boolean operators supported are AND OR NOT \n",
      "combining search terms with key1+key2 ex statistical+analysis \n",
      "\n",
      "enter article query ex \"glutathione and (cow or cattle or bos) and (milk or lactation)\": \n",
      "sialic acid and gwas\n",
      "\n",
      "\n",
      "enter title query ex \"gene or expression\": \n",
      "\n",
      "\n",
      "\n",
      "keyword in articles: (sialic acid and gwas)\n",
      "keyword in titles: ()\n",
      "\n",
      "RESULT 1 | TITLE | Congenital thrombocytopenia associated with GNE mutations in twin sisters: a case report and literature review. | PMID | 33198675 | DOI | 10.1186/s12881-020-01163-2 | AUTHORS | Li X, Li Y, Lei M, Tian J, Yang Z, Kuang S, Tan Y, Bo T | JOURNAL | BMC Med Genet | DATA | 2020 | URL | https://www.ncbi.nlm.nih.gov/pubmed/?term=33198675\n",
      "\n",
      "RESULT 2 | TITLE | CRISPR-Cas9 screens identify regulators of antibody-drug conjugate toxicity. | PMID | 31451760 | DOI | 10.1038/s41589-019-0342-2 | AUTHORS | Tsui CK, Barfield RM, Fischer CR, Morgens DW, Li A, Smith BAH, Gray MA, Bertozzi CR, Rabuka D, Bassik MC | JOURNAL | Nat Chem Biol | DATA | 2019 | URL | https://www.ncbi.nlm.nih.gov/pubmed/?term=31451760\n",
      "\n",
      "RESULT 3 | TITLE | Novel Alzheimers disease risk genes: exhaustive investigation is paramount. | PMID | 31300866 | DOI | 10.1007/s00401-019-02041-9 | AUTHORS | Sleegers K, Van Broeckhoven C | JOURNAL | Acta Neuropathol | DATA | 2019 | URL | https://www.ncbi.nlm.nih.gov/pubmed/?term=31300866\n",
      "\n",
      "RESULT 4 | TITLE | Evaluation of CD33 as a genetic risk factor for Alzheimers disease. | PMID | 30949760 | DOI | 10.1007/s00401-019-02000-4 | AUTHORS | Estus S, Shaw BC, Devanney N, Katsumata Y, Press EE, Fardo DW | JOURNAL | Acta Neuropathol | DATA | 2019 | URL | https://www.ncbi.nlm.nih.gov/pubmed/?term=30949760\n",
      "\n",
      "RESULT 5 | TITLE | Microglia in Alzheimers Disease: Exploring How Genetics and Phenotype Influence Risk. | PMID | 30738892 | DOI | 10.1016/j.jmb.2019.01.045 | AUTHORS | McQuade A, Blurton-Jones M | JOURNAL | J Mol Biol | DATA | 2019 | URL | https://www.ncbi.nlm.nih.gov/pubmed/?term=30738892\n",
      "\n",
      "RESULT 6 | TITLE | Population Genomics Insights into Adaptive Evolution and Ecological Differentiation in Streptomycetes. | PMID | 30658977 | DOI | 10.1128/AEM.02555-18 | AUTHORS | Li Y, Pinto-Tomas AA, Rong X, Cheng K, Liu M, Huang Y | JOURNAL | Appl Environ Microbiol | DATA | 2019 | URL | https://www.ncbi.nlm.nih.gov/pubmed/?term=30658977\n",
      "\n",
      "RESULT 7 | TITLE | New genetic players in late-onset Alzheimers disease: Findings of genome-wide association studies. | PMID | 30381536 | DOI | 10.4103/ijmr.IJMR_473_17 | AUTHORS | Misra A, Chakrabarti SS, Gambhir IS | JOURNAL | Indian J Med Res | DATA | 2018 | URL | https://www.ncbi.nlm.nih.gov/pubmed/?term=30381536\n",
      "\n",
      "RESULT 8 | TITLE | Identification of genetic risk factors of aggressive periodontitis using genomewide association studies in association with those of chronic periodontitis. | PMID | 30303256 | DOI | 10.1111/jre.12620 | AUTHORS | Masumoto R, Kitagaki J, Fujihara C, Matsumoto M, Miyauchi S, Asano Y, Imai A, Kobayashi K, Nakaya A, Yamashita M, Yamada S, Kitamura M, Murakami S | JOURNAL | J Periodontal Res | DATA | 2019 | URL | https://www.ncbi.nlm.nih.gov/pubmed/?term=30303256\n",
      "\n",
      "RESULT 9 | TITLE | Genetics of periodontitis: Discovery, biology, and clinical impact. | PMID | 30198130 | DOI | 10.1111/prd.12232 | AUTHORS | Schaefer AS | JOURNAL | Periodontol 2000 | DATA | 2018 | URL | https://www.ncbi.nlm.nih.gov/pubmed/?term=30198130\n",
      "\n",
      "RESULT 10 | TITLE | Investigation of putative invasion determinants of Actinobacillus species using comparative genomics. | PMID | 29317305 | DOI | 10.1016/j.ygeno.2018.01.001 | AUTHORS | Bujold AR, Shure AE, Liu R, Kropinski AM, MacInnes JI | JOURNAL | Genomics | DATA | 2019 | URL | https://www.ncbi.nlm.nih.gov/pubmed/?term=29317305\n",
      "\n",
      "RESULT 11 | TITLE | A human microglia-like cellular model for assessing the effects of neurodegenerative disease gene variants. | PMID | 29263232 | DOI | 10.1126/scitranslmed.aai7635 | AUTHORS | Ryan KJ, White CC, Patel K, Xu J, Olah M, Replogle JM, Frangieh M, Cimpean M, Winn P, McHenry A, Kaskow BJ, Chan G, Cuerdon N, Bennett DA, Boyd JD, Imitola J, Elyaman W, De Jager PL, Bradshaw EM | JOURNAL | Sci Transl Med | DATA | 2017 | URL | https://www.ncbi.nlm.nih.gov/pubmed/?term=29263232\n",
      "\n",
      "RESULT 12 | TITLE | Validating GWAS Variants from Microglial Genes Implicated in Alzheimers Disease. | PMID | 28477215 | DOI | 10.1007/s12031-017-0928-7 | AUTHORS | Dos Santos LR, Pimassoni LHS, Sena GGS, Camporez D, Belcavello L, Trancozo M, Morelato RL, Errera FIV, Bueno MRP, de Paula F | JOURNAL | J Mol Neurosci | DATA | 2017 | URL | https://www.ncbi.nlm.nih.gov/pubmed/?term=28477215\n",
      "\n",
      "RESULT 13 | TITLE | A genome-wide association study identifies nucleotide variants at SIGLEC5 and DEFA1A3 as risk loci for periodontitis. | PMID | 28449029 | DOI | 10.1093/hmg/ddx151 | AUTHORS | Munz M, Willenborg C, Richter GM, Jockel-Schneider Y, Graetz C, Staufenbiel I, Wellmann J, Berger K, Krone B, Hoffmann P, van der Velde N, Uitterlinden AG, de Groot LCPGM, Sawalha AH, Direskeneli H, Saruhan-Direskeneli G, Guzeldemir-Akcakanat E, Keceli HG, Laudes M, Noack B, Teumer A, Holtfreter B, Kocher T, Eickholz P, Meyle J, Doerfer C, Bruckmann C, Lieb W, Franke A, Schreiber S, Nohutcu RM, Erdmann J, Loos BG, Jepsen S, Dommisch H, Schaefer AS | JOURNAL | Hum Mol Genet | DATA | 2017 | URL | https://www.ncbi.nlm.nih.gov/pubmed/?term=28449029\n",
      "\n",
      "RESULT 14 | TITLE | CRISPR/Cas9-mediated gene knockout screens and target identification via whole-genome sequencing uncover host genes required for picornavirus infection. | PMID | 28446605 | DOI | 10.1074/jbc.M117.782425 | AUTHORS | Kim HS, Lee K, Bae S, Park J, Lee CK, Kim M, Kim E, Kim M, Kim S, Kim C, Kim JS | JOURNAL | J Biol Chem | DATA | 2017 | URL | https://www.ncbi.nlm.nih.gov/pubmed/?term=28446605\n",
      "\n",
      "RESULT 15 | TITLE | Missing genetic variations in GNE myopathy: rearrangement hotspots encompassing 5UTR and founder allele. | PMID | 27829678 | DOI | 10.1038/jhg.2016.134 | AUTHORS | Zhu W, Mitsuhashi S, Yonekawa T, Noguchi S, Huei JC, Nalini A, Preethish-Kumar V, Yamamoto M, Murakata K, Mori-Yoshimura M, Kamada S, Yahikozawa H, Karasawa M, Kimura S, Yamashita F, Nishino I | JOURNAL | J Hum Genet | DATA | 2017 | URL | https://www.ncbi.nlm.nih.gov/pubmed/?term=27829678\n",
      "\n",
      "RESULT 16 | TITLE | Association of Single Nucleotide Polymorphisms in the ST3GAL4 Gene with VWF Antigen and Factor VIII Activity. | PMID | 27584569 | DOI | 10.1371/journal.pone.0160757 | AUTHORS | Song J, Xue C, Preisser JS, Cramer DW, Houck KL, Liu G, Folsom AR, Couper D, Yu F, Dong JF | JOURNAL | PLoS One | DATA | 2016 | URL | https://www.ncbi.nlm.nih.gov/pubmed/?term=27584569\n",
      "\n",
      "RESULT 17 | TITLE | A Novel Variant in CMAH Is Associated with Blood Type AB in Ragdoll Cats. | PMID | 27171395 | DOI | 10.1371/journal.pone.0154973 | AUTHORS | Gandolfi B, Grahn RA, Gustafson NA, Proverbio D, Spada E, Adhikari B, Cheng J, Andrews G, Lyons LA, Helps CR | JOURNAL | PLoS One | DATA | 2016 | URL | https://www.ncbi.nlm.nih.gov/pubmed/?term=27171395\n",
      "\n",
      "RESULT 18 | TITLE | Relationship between ST8SIA2, polysialic acid and its binding molecules, and psychiatric disorders. | PMID | 27105834 | DOI | 10.1016/j.bbagen.2016.04.015 | AUTHORS | Sato C, Hane M, Kitajima K | JOURNAL | Biochim Biophys Acta | DATA | 2016 | URL | https://www.ncbi.nlm.nih.gov/pubmed/?term=27105834\n",
      "\n",
      "RESULT 19 | TITLE | Association of CD33 and MS4A cluster variants with Alzheimers disease in East Asian populations. | PMID | 26455864 | DOI | 10.1016/j.neulet.2015.10.007 | AUTHORS | Mao YF, Guo ZY, Pu JL, Chen YX, Zhang BR | JOURNAL | Neurosci Lett | DATA | 2015 | URL | https://www.ncbi.nlm.nih.gov/pubmed/?term=26455864\n",
      "\n",
      "RESULT 20 | TITLE | Interaction between variants in CLU and MS4A4E modulates Alzheimers disease risk. | PMID | 26449541 | DOI | 10.1016/j.jalz.2015.08.163 | AUTHORS | Ebbert MTW, Boehme KL, Wadsworth ME, Staley LA, Mukherjee S, Crane PK, Ridge PG, Kauwe JSK | JOURNAL | Alzheimers Dement | DATA | 2016 | URL | https://www.ncbi.nlm.nih.gov/pubmed/?term=26449541\n",
      "\n",
      "\n",
      "enter 'exit' for quit or leave empty\n",
      "\n",
      "enter the title number for print the article/s (1,2,3,4,5 .. ): 1,2,3,4,5,6,7,8,9,10,11,12,13,14,15,16,17,18,19,20\n",
      "article 1 has been written .. all done ..\n",
      "article 2 has been written .. all done ..\n",
      "article 3 has been written .. all done ..\n",
      "article 4 has been written .. all done ..\n",
      "article 5 has been written .. all done ..\n",
      "article 6 has been written .. all done ..\n",
      "article 7 has been written .. all done ..\n",
      "article 8 has been written .. all done ..\n",
      "article 9 has been written .. all done ..\n",
      "article 10 has been written .. all done ..\n",
      "article 11 has been written .. all done ..\n",
      "article 12 has been written .. all done ..\n",
      "article 13 has been written .. all done ..\n",
      "article 14 has been written .. all done ..\n",
      "article 15 has been written .. all done ..\n",
      "article 16 has been written .. all done ..\n",
      "article 17 has been written .. all done ..\n",
      "article 18 has been written .. all done ..\n",
      "article 19 has been written .. all done ..\n",
      "article 20 has been written .. all done ..\n",
      "\n",
      "see you later!\n",
      "\n",
      "all done .. PUBMED_SEARCH_DATA_Y-m-d_H-M-S.txt has been moved to INPUT folder\n",
      "\n",
      "all done .. PUBLICATION.csv has been moved to INPUT folder\n"
     ]
    }
   ],
   "source": [
    "'''\n",
    "pignotti.danilo@gmail.com\n",
    "emanuele.tufarini@live.com\n",
    "last modification 12/2020\n",
    "'''\n",
    "\n",
    "import os, sys, datetime\n",
    "directory = os.getcwd()\n",
    "# import functions from the functions\n",
    "library_directory = directory + \"/FUNCTIONS\"\n",
    "sys.path.append(library_directory)\n",
    "input_directory = directory + \"/INPUT\"\n",
    "from pubmed_search import *\n",
    "os.chdir(input_directory)\n",
    "print (\"\\n\")\n",
    "keyword = input('boolean operators supported are AND OR NOT \\n\\\n",
    "combining search terms with key1+key2 ex statistical+analysis \\n\\n\\\n",
    "enter article query ex \"glutathione and (cow or cattle or bos) and (milk or lactation)\": \\n')\n",
    "print (\"\\n\")\n",
    "# enter keyword[title] (search in the title of articles)\n",
    "# or \"\" (search only keyword in the articles)\n",
    "# use and or not boolean operators\n",
    "keyword_title = input('enter title query ex \"gene or expression\": \\n')\n",
    "\n",
    "if keyword_title != \"\":\n",
    "    keyword_title=keyword_title.split(\" \")\n",
    "    #auto insert [title]\n",
    "\n",
    "    list_keyword_title = [k.replace(\")\", \"@@)\") for k in keyword_title]\n",
    "    list_keyword_title = [y for x in list_keyword_title for y in x.split(\"@@\")]  \n",
    "    list_keyword_title = [x+\"[title]\" if x.lower()!=\"and\" and x.lower()!=\"or\" and x.lower()!=\"not\" and x.lower()!=\")\" else x for x in list_keyword_title]\n",
    "\n",
    "    keyword_title=(' '.join(list_keyword_title))\n",
    "\n",
    "else:\n",
    "    keyword_title = \"\"\n",
    "\n",
    "print (\"\\n\")\n",
    "pubmed_search(keyword, keyword_title)\n",
    "os.chdir(directory)\n",
    "print(\"\\nall done .. PUBMED_SEARCH_DATA_Y-m-d_H-M-S.txt has been moved to INPUT folder\")\n",
    "print(\"\\nall done .. PUBLICATION.csv has been moved to INPUT folder\")"
   ]
  },
  {
   "cell_type": "code",
   "execution_count": 1,
   "metadata": {},
   "outputs": [
    {
     "name": "stdout",
     "output_type": "stream",
     "text": [
      "/home/e_tufarini/notebook/MIQUALAT_NOTEBOOK\r\n"
     ]
    }
   ],
   "source": [
    "!pwd"
   ]
  }
 ],
 "metadata": {
  "kernelspec": {
   "display_name": "Python 3",
   "language": "python",
   "name": "python3"
  },
  "language_info": {
   "codemirror_mode": {
    "name": "ipython",
    "version": 3
   },
   "file_extension": ".py",
   "mimetype": "text/x-python",
   "name": "python",
   "nbconvert_exporter": "python",
   "pygments_lexer": "ipython3",
   "version": "3.7.3"
  }
 },
 "nbformat": 4,
 "nbformat_minor": 4
}
