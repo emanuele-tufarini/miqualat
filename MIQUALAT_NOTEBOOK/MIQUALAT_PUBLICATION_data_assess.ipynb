{
 "cells": [
  {
   "cell_type": "markdown",
   "metadata": {},
   "source": [
    "run to create table PUBLICATION"
   ]
  },
  {
   "cell_type": "code",
   "execution_count": null,
   "metadata": {
    "scrolled": false
   },
   "outputs": [
    {
     "name": "stdout",
     "output_type": "stream",
     "text": [
      "insert your e-mail: e\n",
      "boolean operators supported are AND OR NOT \n",
      "\n",
      "enter article query ex \"glutathione and (cow or cattle or bos) and (milk or lactation)\": \n",
      "glutathione and (cow or cattle or bos) AND (milk or lactation)\n",
      "\n",
      "\n",
      "enter title query ex \"gene or expression\": \n",
      "gene OR expression\n",
      "\n",
      "\n",
      "keyword in articles: (glutathione and (cow or cattle or bos) and (milk or lactation))\n",
      "keyword in titles: (gene[title] or expression[title])\n",
      "\n",
      "RESULT 1 | TITLE | Effect of summer heat stress on gene expression in bovine uterine endometrial tissues. | PMID | 33159383 | DOI | 10.1111/asj.13474 | AUTHORS | Bai H, Ukita H, Kawahara M, Mitani T, Furukawa E, Yanagawa Y, Yabuuchi N, Kim H, Takahashi M | JOURNAL | Anim Sci J | DATA | 2020 | URL | https://www.ncbi.nlm.nih.gov/pubmed/?term=33159383\n",
      "\n",
      "RESULT 2 | TITLE | Nano-selenium Supplementation Increases Selenoprotein (Sel) Gene Expression Profiles and Milk Selenium Concentration in Lactating Dairy Cows. | PMID | 32328970 | DOI | 10.1007/s12011-020-02139-2 | AUTHORS | Han L, Pang K, Fu T, Phillips CJC, Gao T | JOURNAL | Biol Trace Elem Res | DATA | 2020 | URL | https://www.ncbi.nlm.nih.gov/pubmed/?term=32328970\n",
      "\n",
      "RESULT 3 | TITLE | Low Expression of Sirtuin 1 in the Dairy Cows with Mild Fatty Liver Alters Hepatic Lipid Metabolism. | PMID | 32230804 | DOI | 10.3390/ani10040560 | AUTHORS | Li Y, Zou S, Ding H, Hao N, Huang Y, Tang J, Cheng J, Feng S, Li J, Wang X, Wu J | JOURNAL | Animals (Basel) | DATA | 2020 | URL | https://www.ncbi.nlm.nih.gov/pubmed/?term=32230804\n",
      "\n",
      "RESULT 4 | TITLE | In vitro methionine supplementation during lipopolysaccharide stimulation modulates immunometabolic gene network expression in isolated polymorphonuclear cells from lactating Holstein cows. | PMID | 31301830 | DOI | 10.3168/jds.2018-15737 | AUTHORS | Vailati-Riboni M, Xu T, Qadir B, Bucktrout R, Parys C, Loor JJ | JOURNAL | J Dairy Sci | DATA | 2019 | URL | https://www.ncbi.nlm.nih.gov/pubmed/?term=31301830\n",
      "\n",
      "RESULT 5 | TITLE | Papaya extract upregulates the immune and antioxidants-related genes, and proteins expression in milk somatic cells of Friesian dairy cows. | PMID | 30511402 | DOI | 10.1111/jpn.13032 | AUTHORS | Abouzed TK, Sadek KM, Ayoub MM, Saleh EA, Nasr SM, El-Sayed YS, Shoukry M | JOURNAL | J Anim Physiol Anim Nutr (Berl) | DATA | 2019 | URL | https://www.ncbi.nlm.nih.gov/pubmed/?term=30511402\n",
      "\n",
      "RESULT 6 | TITLE | Methionine supply alters mammary gland antioxidant gene networks via phosphorylation of nuclear factor erythroid 2-like 2 (NFE2L2) protein in dairy cows during the periparturient period. | PMID | 29908802 | DOI | 10.3168/jds.2017-14206 | AUTHORS | Han L, Batistel F, Ma Y, Alharthi ASM, Parys C, Loor JJ | JOURNAL | J Dairy Sci | DATA | 2018 | URL | https://www.ncbi.nlm.nih.gov/pubmed/?term=29908802\n",
      "\n",
      "RESULT 7 | TITLE | Phosphorylation of nuclear factor erythroid 2-like 2 (NFE2L2) in mammary tissue of Holstein cows during the periparturient period is associated with mRNA abundance of antioxidant gene networks. | PMID | 29680643 | DOI | 10.3168/jds.2017-14257 | AUTHORS | Han LQ, Zhou Z, Ma Y, Batistel F, Osorio JS, Loor JJ | JOURNAL | J Dairy Sci | DATA | 2018 | URL | https://www.ncbi.nlm.nih.gov/pubmed/?term=29680643\n",
      "\n",
      "RESULT 8 | TITLE | Peripartal rumen-protected methionine supplementation to higher energy diets elicits positive effects on blood neutrophil gene networks, performance and liver lipid content in dairy cows. | PMID | 26962451 | DOI | 10.1186/s40104-016-0077-9 | AUTHORS | Li C, Batistel F, Osorio JS, Drackley JK, Luchini D, Loor JJ | JOURNAL | J Anim Sci Biotechnol | DATA | 2016 | URL | https://www.ncbi.nlm.nih.gov/pubmed/?term=26962451\n",
      "\n",
      "RESULT 9 | TITLE | Smartamine M and MetaSmart supplementation during the peripartal period alter hepatic expression of gene networks in 1-carbon metabolism, inflammation, oxidative stress, and the growth hormone-insulin-like growth factor 1 axis pathways. | PMID | 25282416 | DOI | 10.3168/jds.2014-8680 | AUTHORS | Osorio JS, Ji P, Drackley JK, Luchini D, Loor JJ | JOURNAL | J Dairy Sci | DATA | 2014 | URL | https://www.ncbi.nlm.nih.gov/pubmed/?term=25282416\n",
      "\n",
      "RESULT 10 | TITLE | Constitutive expression of the AHR signaling pathway in a bovine mammary epithelial cell line and modulation by dioxin-like PCB and other AHR ligands. | PMID | 25251150 | DOI | 10.1016/j.toxlet.2014.09.013 | AUTHORS | Girolami F, Spalenza V, Manzini L, Carletti M, Nebbia C | JOURNAL | Toxicol Lett | DATA | 2015 | URL | https://www.ncbi.nlm.nih.gov/pubmed/?term=25251150\n",
      "\n",
      "RESULT 11 | TITLE | Feeding glycerol-enriched yeast culture improves performance, energy status, and heat shock protein gene expression of lactating Holstein cows under heat stress. | PMID | 24668959 | DOI | 10.2527/jas.2013-7152 | AUTHORS | Liu J, Ye G, Zhou Y, Liu Y, Zhao L, Liu Y, Chen X, Huang D, Liao SF, Huang K | JOURNAL | J Anim Sci | DATA | 2014 | URL | https://www.ncbi.nlm.nih.gov/pubmed/?term=24668959\n",
      "\n",
      "RESULT 12 | TITLE | Mammary gene expression and activity of antioxidant enzymes and oxidative indicators in the blood, milk, mammary tissue and ruminal fluid of dairy cows fed flax meal. | PMID | 23578516 | DOI | 10.1017/S0007114513001220 | AUTHORS | Schogor AL, Palin MF, Santos GT, Benchaar C, Lacasse P, Petit HV | JOURNAL | Br J Nutr | DATA | 2013 | URL | https://www.ncbi.nlm.nih.gov/pubmed/?term=23578516\n",
      "\n",
      "RESULT 13 | TITLE | Expression of target genes of nuclear factor E2-related factor 2 in the liver of dairy cows in the transition period and at different stages of lactation. | PMID | 23245956 | DOI | 10.3168/jds.2012-5967 | AUTHORS | Gessner DK, Schlegel G, Keller J, Schwarz FJ, Ringseis R, Eder K | JOURNAL | J Dairy Sci | DATA | 2013 | URL | https://www.ncbi.nlm.nih.gov/pubmed/?term=23245956\n",
      "\n",
      "RESULT 14 | TITLE | Mammary gene expression and activity of antioxidant enzymes and concentration of the mammalian lignan enterolactone in milk and plasma of dairy cows fed flax lignans and infused with flax oil in the abomasum. | PMID | 22214882 | DOI | 10.1017/S0007114511006829 | AUTHORS | Cortes C, Palin MF, Gagnon N, Benchaar C, Lacasse P, Petit HV | JOURNAL | Br J Nutr | DATA | 2012 | URL | https://www.ncbi.nlm.nih.gov/pubmed/?term=22214882\n",
      "\n",
      "RESULT 15 | TITLE | Regulation of selenoprotein mRNA expression by hormones and retinoic acid in bovine mammary cells. | PMID | 20943360 | DOI | 10.1016/j.jtemb.2010.08.001 | AUTHORS | Bruzelius K, Sundler R, Pagmantidis V, Akesson B | JOURNAL | J Trace Elem Med Biol | DATA | 2010 | URL | https://www.ncbi.nlm.nih.gov/pubmed/?term=20943360\n",
      "\n",
      "RESULT 16 | TITLE | Evaluation of antioxidant and proinflammatory gene expression in bovine mammary tissue during the periparturient period. | PMID | 19164669 | DOI | 10.3168/jds.2008-1551 | AUTHORS | Aitken SL, Karcher EL, Rezamand P, Gandy JC, VandeHaar MJ, Capuco AV, Sordillo LM | JOURNAL | J Dairy Sci | DATA | 2009 | URL | https://www.ncbi.nlm.nih.gov/pubmed/?term=19164669\n",
      "\n",
      "RESULT 17 | TITLE | Effects of Colostrinin on gene expression-transcriptomal network analysis. | PMID | 19015048 | DOI | 10.1016/j.intimp.2008.10.022 | AUTHORS | Szaniszlo P, German P, Hajas G, Saenz DN, Woodberry MW, Kruzel ML, Boldogh I | JOURNAL | Int Immunopharmacol | DATA | 2009 | URL | https://www.ncbi.nlm.nih.gov/pubmed/?term=19015048\n",
      "\n",
      "RESULT 18 | TITLE | Relationship of body condition score and oxidant stress to tumor necrosis factor expression in dairy cattle. | PMID | 16842861 | DOI | 10.1016/j.vetimm.2006.05.013 | AUTHORS | OBoyle N, Corl CM, Gandy JC, Sordillo LM | JOURNAL | Vet Immunol Immunopathol | DATA | 2006 | URL | https://www.ncbi.nlm.nih.gov/pubmed/?term=16842861\n",
      "\n",
      "RESULT 19 | TITLE | Expression of deletion constructs of bovine beta-1,4-galactosyltransferase in Escherichia coli: importance of Cys134 for its activity. | PMID | 8248102 | DOI | 10.1093/protein/6.7.779 | AUTHORS | Boeggeman EE, Balaji PV, Sethi N, Masibay AS, Qasba PK | JOURNAL | Protein Eng | DATA | 1993 | URL | https://www.ncbi.nlm.nih.gov/pubmed/?term=8248102\n",
      "\n",
      "\n",
      "enter 'exit' for quit or leave empty\n",
      "\n"
     ]
    }
   ],
   "source": [
    "'''\n",
    "pignotti.danilo@gmail.com\n",
    "emanuele.tufarini@live.com\n",
    "last modification 12/2020\n",
    "'''\n",
    "\n",
    "import os, sys, datetime\n",
    "PATH = os.getcwd()\n",
    "# import functions from the functions\n",
    "LIBRARY_PATH = PATH + \"/FUNCTIONS\"\n",
    "sys.path.append(LIBRARY_PATH)\n",
    "INPUT_PATH = PATH + \"/INPUT\"\n",
    "from pubmed_search import *\n",
    "\n",
    "os.chdir(INPUT_PATH)\n",
    "print (\"\\n\")\n",
    "keyword = input('boolean operators supported are AND OR NOT \\n\\n\\\n",
    "enter article query ex \"glutathione and (cow or cattle or bos) and (milk or lactation)\": \\n')\n",
    "print (\"\\n\")\n",
    "# enter keyword[title] (search in the title of articles)\n",
    "# or \"\" (search only keyword in the articles)\n",
    "# use and or not boolean operators\n",
    "keyword_title = input('enter title query ex \"gene or expression\": \\n')\n",
    "keyword_title=keyword_title.split(\" \")\n",
    "#auto insert [title]\n",
    "list_keyword_title = [x+\"[title]\" if x.lower()!=\"and\" and x.lower()!=\"or\" and x.lower()!=\"not\" else x for x in keyword_title]\n",
    "keyword_title=(' '.join(list_keyword_title))\n",
    "print (\"\\n\")\n",
    "pubmed_search(keyword, keyword_title)\n",
    "os.chdir(PATH)\n",
    "print(\"\\nall done .. PUBMED_SEARCH_DATA_Y-m-d_H-M-S.txt has been moved to INPUT folder\")\n",
    "print(\"\\nall done .. PUBLICATION.csv has been moved to INPUT folder\")"
   ]
  },
  {
   "cell_type": "code",
   "execution_count": null,
   "metadata": {},
   "outputs": [],
   "source": []
  }
 ],
 "metadata": {
  "kernelspec": {
   "display_name": "Python 3",
   "language": "python",
   "name": "python3"
  }
 },
 "nbformat": 4,
 "nbformat_minor": 4
}
