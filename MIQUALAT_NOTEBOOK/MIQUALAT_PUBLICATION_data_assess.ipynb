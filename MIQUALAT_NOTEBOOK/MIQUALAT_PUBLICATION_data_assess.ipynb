{
 "cells": [
  {
   "cell_type": "markdown",
   "metadata": {},
   "source": [
    "# run to search in pubmed or create PUBLICATION table"
   ]
  },
  {
   "cell_type": "code",
   "execution_count": null,
   "metadata": {
    "scrolled": false
   },
   "outputs": [],
   "source": [
    "'''\n",
    "pignotti.danilo@gmail.com\n",
    "emanuele.tufarini@live.com\n",
    "last modification 12/2020\n",
    "'''\n",
    "\n",
    "import os, sys, datetime\n",
    "directory = os.getcwd()\n",
    "# import functions from the functions\n",
    "library_directory = directory + \"/FUNCTIONS\"\n",
    "sys.path.append(library_directory)\n",
    "input_directory = directory + \"/INPUT\"\n",
    "from pubmed_search import *\n",
    "os.chdir(input_directory)\n",
    "print (\"\\n\")\n",
    "keyword = input('boolean operators supported are AND OR NOT \\n\\\n",
    "combining search terms with key1+key2 ex statistical+analysis \\n\\n\\\n",
    "enter article query ex \"glutathione and (cow or cattle or bos) and (milk or lactation)\": \\n')\n",
    "print (\"\\n\")\n",
    "# enter keyword[title] (search in the title of articles)\n",
    "# or \"\" (search only keyword in the articles)\n",
    "# use and or not boolean operators\n",
    "keyword_title = input('enter title query ex \"gene or expression\": \\n')\n",
    "keyword_title=keyword_title.split(\" \")\n",
    "#auto insert [title]\n",
    "\n",
    "list_keyword_title = [k.replace(\")\", \"@@)\") for k in keyword_title]\n",
    "list_keyword_title = [y for x in list_keyword_title for y in x.split(\"@@\")]  \n",
    "list_keyword_title = [x+\"[title]\" if x.lower()!=\"and\" and x.lower()!=\"or\" and x.lower()!=\"not\" and x.lower()!=\")\" else x for x in list_keyword_title]\n",
    "\n",
    "keyword_title=(' '.join(list_keyword_title))\n",
    "print (\"\\n\")\n",
    "pubmed_search(keyword, keyword_title)\n",
    "os.chdir(directory)\n",
    "print(\"\\nall done .. PUBMED_SEARCH_DATA_Y-m-d_H-M-S.txt has been moved to INPUT folder\")\n",
    "print(\"\\nall done .. PUBLICATION.csv has been moved to INPUT folder\")"
   ]
  }
 ],
 "metadata": {
  "kernelspec": {
   "display_name": "Python 3",
   "language": "python",
   "name": "python3"
  },
  "language_info": {
   "codemirror_mode": {
    "name": "ipython",
    "version": 3
   },
   "file_extension": ".py",
   "mimetype": "text/x-python",
   "name": "python",
   "nbconvert_exporter": "python",
   "pygments_lexer": "ipython3",
   "version": "3.7.3"
  }
 },
 "nbformat": 4,
 "nbformat_minor": 4
}
