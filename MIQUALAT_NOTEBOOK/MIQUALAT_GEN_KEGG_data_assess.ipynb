{
 "cells": [
  {
   "cell_type": "markdown",
   "metadata": {},
   "source": [
    "RUN TO INSTALL REQUISITES"
   ]
  },
  {
   "cell_type": "code",
   "execution_count": 1,
   "metadata": {},
   "outputs": [
    {
     "name": "stdout",
     "output_type": "stream",
     "text": [
      "Looking in indexes: https://pypi.org/simple, https://www.piwheels.org/simple\n",
      "Requirement already satisfied: biopython in /usr/local/lib/python3.7/dist-packages (1.78)\n",
      "Requirement already satisfied: numpy in /usr/local/lib/python3.7/dist-packages (from biopython) (1.19.4)\n",
      "Looking in indexes: https://pypi.org/simple, https://www.piwheels.org/simple\n",
      "Requirement already satisfied: ensembl-rest in /usr/local/lib/python3.7/dist-packages (0.3.3)\n",
      "Requirement already satisfied: intervaltree in /usr/local/lib/python3.7/dist-packages (from ensembl-rest) (3.1.0)\n",
      "Requirement already satisfied: simplejson in /usr/local/lib/python3.7/dist-packages (from ensembl-rest) (3.17.2)\n",
      "Requirement already satisfied: requests in /usr/lib/python3/dist-packages (from ensembl-rest) (2.21.0)\n",
      "Requirement already satisfied: importlib-resources in /usr/local/lib/python3.7/dist-packages (from ensembl-rest) (3.3.0)\n",
      "Requirement already satisfied: sortedcontainers<3.0,>=2.0 in /usr/local/lib/python3.7/dist-packages (from intervaltree->ensembl-rest) (2.3.0)\n",
      "Requirement already satisfied: zipp>=0.4; python_version < \"3.8\" in /usr/local/lib/python3.7/dist-packages (from importlib-resources->ensembl-rest) (3.4.0)\n",
      "Looking in indexes: https://pypi.org/simple, https://www.piwheels.org/simple\n",
      "Requirement already satisfied: mygene in /usr/local/lib/python3.7/dist-packages (3.1.0)\n",
      "Requirement already satisfied: biothings-client>=0.2.0 in /usr/local/lib/python3.7/dist-packages (from mygene) (0.2.3)\n",
      "Requirement already satisfied: requests>=2.3.0 in /usr/lib/python3/dist-packages (from biothings-client>=0.2.0->mygene) (2.21.0)\n",
      "Requirement already satisfied: nose in /usr/local/lib/python3.7/dist-packages (from biothings-client>=0.2.0->mygene) (1.3.7)\n",
      "\n",
      "all done ..\n"
     ]
    }
   ],
   "source": [
    "\n",
    "'''\n",
    "emanuele.tufarini@live.com\n",
    "last modification 11-2020\n",
    "'''\n",
    "\n",
    "!pip3 install biopython \n",
    "!pip3 install ensembl-rest\n",
    "!pip3 install mygene\n",
    "\n",
    "print (\"\\nall done ..\")\n"
   ]
  },
  {
   "cell_type": "markdown",
   "metadata": {},
   "source": [
    "RUN TO IMPORT FUNCTIONS AND SET PATH OF NOTEBOOK"
   ]
  },
  {
   "cell_type": "code",
   "execution_count": 1,
   "metadata": {},
   "outputs": [
    {
     "name": "stdout",
     "output_type": "stream",
     "text": [
      "\n",
      "all done ..\n"
     ]
    }
   ],
   "source": [
    "\n",
    "PATH = !pwd \n",
    "PATH = str(PATH[0])\n",
    "\n",
    "import sys\n",
    "import datetime\n",
    "from Bio.KEGG import REST\n",
    "# importing functions from the functions folder\n",
    "LIBRARY_PATH = PATH + \"/FUNCTIONS\"\n",
    "sys.path.append(LIBRARY_PATH)\n",
    "\n",
    "from ensembl_to_kegg_id import *\n",
    "\n",
    "print(\"\\nall done ..\")\n"
   ]
  },
  {
   "cell_type": "markdown",
   "metadata": {},
   "source": [
    "RUN TO CREATE TABLE GEN_KEGG"
   ]
  },
  {
   "cell_type": "code",
   "execution_count": 2,
   "metadata": {},
   "outputs": [
    {
     "name": "stdout",
     "output_type": "stream",
     "text": [
      "enter 1 to search for a gene, 2 to convert the gene file to gen_kegg table (this may take a long time): 1\n",
      "\n",
      "\n",
      "enter ensembl_symbol (ex ENSBTAG00000040298, ENSBTAG00000017043 ..): ENSBTAG00000040298, ENSBTAG00000017043\n",
      "\n",
      "\n",
      "ENSEMBL_ID |  ENSBTAG00000040298  |NCBI_ID |  517724\n",
      "ENSEMBL_ID |  ENSBTAG00000040298  | KEGG_ID |  bta:517724\n",
      "ENSEMBL_ID |  ENSBTAG00000040298  | PATH_ID |  path:bta00480\n",
      "ENSEMBL_ID |  ENSBTAG00000040298  | PATH_ID |  path:bta00980\n",
      "ENSEMBL_ID |  ENSBTAG00000040298  | PATH_ID |  path:bta00982\n",
      "ENSEMBL_ID |  ENSBTAG00000040298  | PATH_ID |  path:bta00983\n",
      "ENSEMBL_ID |  ENSBTAG00000040298  | PATH_ID |  path:bta01100\n",
      "ENSEMBL_ID |  ENSBTAG00000040298  | PATH_ID |  path:bta01524\n",
      "ENSEMBL_ID |  ENSBTAG00000040298  | PATH_ID |  path:bta05200\n",
      "ENSEMBL_ID |  ENSBTAG00000040298  | PATH_ID |  path:bta05204\n",
      "ENSEMBL_ID |  ENSBTAG00000040298  | PATH_ID |  path:bta05225\n",
      "ENSEMBL_ID |  ENSBTAG00000040298  | PATH_ID |  path:bta05418\n",
      "\n",
      "all done.. gene has been converted ..\n",
      "\n",
      "ENSEMBL_ID |  ENSBTAG00000017043  |NCBI_ID |  509707\n",
      "ENSEMBL_ID |  ENSBTAG00000017043  | KEGG_ID |  bta:509707\n",
      "\n",
      "all done.. gene has been converted ..\n",
      "\n",
      "\n",
      "all done .. ENS_GENE_ID.csv file has been moved to OUTPUT folder ..\n",
      "\n",
      "all done .. ENS_PATH_ID.csv file has been moved to OUTPUT folder ..\n"
     ]
    }
   ],
   "source": [
    "\n",
    "# option 2 with intel i5 3300 quad core 3ghz, - time 6,0 h \n",
    "\n",
    "INPUT_PATH = PATH + \"/INPUT\"\n",
    "\n",
    "select = input (\"enter 1 to search for a gene, 2 to convert the gene file to gen_kegg table (this may take a long time): \")\n",
    "print(\"\\n\")\n",
    "\n",
    "# download required dataset (for best performance out of function)\n",
    "KEGG_NCBI = REST.kegg_conv(\"bta\", \"ncbi-geneid\").read()\n",
    "NCBI_ID_LIST = ((KEGG_NCBI.replace(\"\\t\",\"\\n\").split(\"\\n\"))[0::2])\n",
    "KEGG_ID_LIST = ((KEGG_NCBI.replace(\"\\t\",\"\\n\").split(\"\\n\"))[1::2])\n",
    "\n",
    "GENE_PATH = REST.kegg_link(\"pathway\",\"bta\").read()\n",
    "GENE_KEGG_ID = ((GENE_PATH.replace(\"\\t\",\"\\n\").split(\"\\n\"))[0::2]) \n",
    "PATH_KEGG_ID = ((GENE_PATH.replace(\"\\t\",\"\\n\").split(\"\\n\"))[1::2])\n",
    "\n",
    "if select == \"1\":\n",
    "    MYGENE = input (\"enter ensembl_symbol (ex ENSBTAG00000040298, ENSBTAG00000017043 ..): \")\n",
    "    print(\"\\n\")\n",
    "\n",
    "    MYGENE = MYGENE.replace(\" \",\"\")\n",
    "    MYGENE = MYGENE.split(\",\")\n",
    "\n",
    "    ENS_GENE_ID = open(\"ENS_GENE_ID.csv\", \"w\")\n",
    "    ENS_GENE_ID.write(\"ensembl_gene_ID,kegg_ID\\n\")\n",
    "    ENS_PATH_ID = open(\"ENS_PATH_ID.csv\", \"w\")\n",
    "    ENS_PATH_ID.write(\"ensembl_gene_ID,kegg_ID\\n\")\n",
    "\n",
    "    ENS_GENE_ID.close()\n",
    "    ENS_PATH_ID.close()\n",
    "\n",
    "    n = 1\n",
    "    for ENSEMBL_GENEID in MYGENE:\n",
    "        ensembl_to_kegg_id(ENSEMBL_GENEID,n,KEGG_NCBI,NCBI_ID_LIST,KEGG_ID_LIST,GENE_PATH,GENE_KEGG_ID,PATH_KEGG_ID)\n",
    "        n += 1\n",
    "\n",
    "    !mv ENS_GENE_ID.csv INPUT\n",
    "    !mv ENS_PATH_ID.csv INPUT\n",
    "    print (\"\\nall done .. ENS_GENE_ID.csv file has been moved to INPUT folder ..\")\n",
    "    print (\"\\nall done .. ENS_PATH_ID.csv file has been moved to INPUT folder ..\")\n",
    "    \n",
    "elif select == \"2\":\n",
    "    os.chdir(INPUT_PATH)\n",
    "    gene_name = input (\"enter gene file name (ex GENE.csv): \")\n",
    "    gene_file = open (gene_name, \"r\").readlines()\n",
    "    gene_list = [i.split(\",\") for i in gene_file]\n",
    "    gene_list = [i[0] for i in gene_list]\n",
    "    print(\"this may take a long time ..\")\n",
    "    \n",
    "    \n",
    "    print(\"\\n\")\n",
    "\n",
    "    ENS_GENE_ID = open(\"ENS_GENE_ID.csv\", \"w\")\n",
    "    ENS_GENE_ID.write(\"ensembl_gene_ID,kegg_ID\\n\")\n",
    "    ENS_PATH_ID = open(\"ENS_PATH_ID.csv\", \"w\")\n",
    "    ENS_PATH_ID.write(\"ensembl_gene_ID,kegg_ID\\n\")\n",
    "\n",
    "    ENS_GENE_ID.close()\n",
    "    ENS_PATH_ID.close()\n",
    "\n",
    "    n = 1\n",
    "    for ENSEMBL_GENEID in gene_list:\n",
    "        ensembl_to_kegg_id(ENSEMBL_GENEID,n,KEGG_NCBI,NCBI_ID_LIST,KEGG_ID_LIST,GENE_PATH,GENE_KEGG_ID,PATH_KEGG_ID)\n",
    "        n += 1\n",
    "\n",
    "    print (\"\\nall done .. ENS_GENE_ID.csv file has been moved to INPUT folder ..\")\n",
    "    print (\"\\nall done .. ENS_PATH_ID.csv file has been moved to INPUT folder ..\")\n",
    "    os.chdir(PATH)\n",
    "    \n",
    "else:\n",
    "    print (\"WARNING: please enter 1 or 2\")\n"
   ]
  }
 ],
 "metadata": {
  "kernelspec": {
   "display_name": "Python 3",
   "language": "python",
   "name": "python3"
  },
  "language_info": {
   "codemirror_mode": {
    "name": "ipython",
    "version": 3
   },
   "file_extension": ".py",
   "mimetype": "text/x-python",
   "name": "python",
   "nbconvert_exporter": "python",
   "pygments_lexer": "ipython3",
   "version": "3.7.3"
  }
 },
 "nbformat": 4,
 "nbformat_minor": 4
}
