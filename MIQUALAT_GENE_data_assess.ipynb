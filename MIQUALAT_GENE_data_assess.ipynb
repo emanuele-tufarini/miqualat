{
 "cells": [
  {
   "cell_type": "markdown",
   "metadata": {},
   "source": [
    "RUN TO INSTALL REQUISITES"
   ]
  },
  {
   "cell_type": "code",
   "execution_count": 1,
   "metadata": {},
   "outputs": [
    {
     "name": "stdout",
     "output_type": "stream",
     "text": [
      "Looking in indexes: https://pypi.org/simple, https://www.piwheels.org/simple\n",
      "Requirement already satisfied: biopython in /usr/local/lib/python3.7/dist-packages (1.78)\n",
      "Requirement already satisfied: numpy in /usr/local/lib/python3.7/dist-packages (from biopython) (1.19.4)\n",
      "Looking in indexes: https://pypi.org/simple, https://www.piwheels.org/simple\n",
      "Requirement already satisfied: ensembl-rest in /usr/local/lib/python3.7/dist-packages (0.3.3)\n",
      "Requirement already satisfied: requests in /usr/lib/python3/dist-packages (from ensembl-rest) (2.21.0)\n",
      "Requirement already satisfied: simplejson in /usr/local/lib/python3.7/dist-packages (from ensembl-rest) (3.17.2)\n",
      "Requirement already satisfied: intervaltree in /usr/local/lib/python3.7/dist-packages (from ensembl-rest) (3.1.0)\n",
      "Requirement already satisfied: importlib-resources in /usr/local/lib/python3.7/dist-packages (from ensembl-rest) (3.3.0)\n",
      "Requirement already satisfied: sortedcontainers<3.0,>=2.0 in /usr/local/lib/python3.7/dist-packages (from intervaltree->ensembl-rest) (2.3.0)\n",
      "Requirement already satisfied: zipp>=0.4; python_version < \"3.8\" in /usr/local/lib/python3.7/dist-packages (from importlib-resources->ensembl-rest) (3.4.0)\n",
      "Looking in indexes: https://pypi.org/simple, https://www.piwheels.org/simple\n",
      "Requirement already satisfied: mygene in /usr/local/lib/python3.7/dist-packages (3.1.0)\n",
      "Requirement already satisfied: biothings-client>=0.2.0 in /usr/local/lib/python3.7/dist-packages (from mygene) (0.2.3)\n",
      "Requirement already satisfied: requests>=2.3.0 in /usr/lib/python3/dist-packages (from biothings-client>=0.2.0->mygene) (2.21.0)\n",
      "Requirement already satisfied: nose in /usr/local/lib/python3.7/dist-packages (from biothings-client>=0.2.0->mygene) (1.3.7)\n",
      "\n",
      "all done ..\n"
     ]
    }
   ],
   "source": [
    "\n",
    "'''\n",
    "emanuele.tufarini@live.com\n",
    "last modification 11-2020\n",
    "'''\n",
    "\n",
    "!pip3 install biopython \n",
    "!pip3 install ensembl-rest\n",
    "!pip3 install mygene\n",
    "\n",
    "print (\"\\nall done ..\")\n"
   ]
  },
  {
   "cell_type": "markdown",
   "metadata": {},
   "source": [
    "RUN TO IMPORT FUNCTIONS AND SET PATH OF NOTEBOOK"
   ]
  },
  {
   "cell_type": "code",
   "execution_count": 3,
   "metadata": {},
   "outputs": [
    {
     "name": "stdout",
     "output_type": "stream",
     "text": [
      "\n",
      "all done\n"
     ]
    }
   ],
   "source": [
    "\n",
    "PATH = !pwd \n",
    "PATH = str(PATH[0])\n",
    "\n",
    "import sys, os\n",
    "# importing functions from the functions folder\n",
    "LIBRARY_PATH = PATH + \"/FUNCTIONS\"\n",
    "sys.path.append(LIBRARY_PATH)\n",
    "from ensembl_search import *\n",
    "from python_parser_biomart_gene_csv import *\n",
    "\n",
    "print(\"\\nall done\")\n"
   ]
  },
  {
   "cell_type": "markdown",
   "metadata": {},
   "source": [
    "RUN TO CREATE TABLE GENE"
   ]
  },
  {
   "cell_type": "code",
   "execution_count": 4,
   "metadata": {},
   "outputs": [
    {
     "name": "stdout",
     "output_type": "stream",
     "text": [
      "enter 1 to search for a gene, 2 to convert the biomart file to gene table: 2\n",
      "\n",
      "\n",
      "first insert the biomart file in the OUTPUT folder\n",
      "\n",
      "ex homo sapiens (chrom_x=23 chrom_y=24 chrom_mt=##26?## refseq=GRCh38.p13)\n",
      "\n",
      "ex bos taurus (chrom_x=30 chrom_y=31 chrom_mt=33 refseq=ARS-UCD1.2)\n",
      "\n",
      "enter biomart file name, empty for default (ex mart_export_bos_taurus.csv): mart_export_bos_taurus.csv\n",
      "enter species, empty for default  (bos taurus): \n",
      "enter x chromosome number, empty for default  (bos taurus 30): \n",
      "enter y chromosome number, empty for default  (bos taurus 31): \n",
      "enter mt chromosome number, empty for default  (bos taurus 33): \n",
      "enter refseq, empty for default  (bos taurus ARS-UCD1.2): \n",
      "\n",
      "\n",
      "Bos_taurus total gene number: 27607\n",
      "Bos_taurus total scaffold number: 337\n",
      "Bos_taurus gene number from autosomal and sexual chromosomes: 27270\n",
      "Bos_taurus chromosome X gene number: 1132\n",
      "Bos_taurus chromosome Y gene number: 0\n",
      "Bos_taurus chromosome MT gene number: 37\n",
      "\n",
      "all done .. GENE.csv file has been moved to OUTPUT folder ..\n"
     ]
    }
   ],
   "source": [
    "\n",
    "OUTPUT_PATH = PATH + \"/OUTPUT\"\n",
    "\n",
    "# possible errors with ubuntu 20 (change ssl security level 2 > 1)\n",
    "# problem: https://github.com/Ensembl/ensembl-rest/issues/427ottieni informazioni da geni specifici\n",
    "# solution: https://askubuntu.com/questions/1233186/ubuntu-20-04-how-to-set-lower-ssl-security-level\n",
    "\n",
    "select = input (\"enter 1 to search for a gene, 2 to convert the biomart file to gene table: \")\n",
    "print(\"\\n\")\n",
    "\n",
    "if select == \"1\":\n",
    "    species = input (\"enter species (ex bos taurus): \")\n",
    "    gene = input (\"enter ensembl_symbol (ex GPX1, GPR1 ..): \")\n",
    "    print(\"\\n\")\n",
    "    gene = gene.replace(\" \",\"\")\n",
    "    gene = gene.split(\",\")\n",
    "    GENE = open(\"GENE.csv\", \"w\")\n",
    "    GENE.write (\"ensembl_gene_ID,gene_name,gene_short_description,refseq,species,chromosome,start_coordinate,end_coordinate,strand\\n\")\n",
    "    GENE.close()\n",
    "    n = 1\n",
    "    for ensembl_symbol in gene:\n",
    "        ensembl_search(species, ensembl_symbol, n)\n",
    "        n += 1\n",
    "    !mv GENE.csv OUTPUT\n",
    "    print (\"\\nall done .. GENE.csv file has been moved to OUTPUT folder ..\")\n",
    "    \n",
    "elif select == \"2\":\n",
    "    # this work only for bos taurus\n",
    "    os.chdir(OUTPUT_PATH)\n",
    "    print (\"first insert the biomart file in the OUTPUT folder\\n\")\n",
    "    print (\"chrom_x autosomal +1, chrom_y autosomal +2, chrom_mt autosomal +4\\n\")\n",
    "    print (\"ex homo sapiens (chrom_x=23 chrom_y=24 chrom_mt=26 refseq=GRCh38.p13)\\n\")\n",
    "    print (\"ex bos taurus (chrom_x=30 chrom_y=31 chrom_mt=33 refseq=ARS-UCD1.2)\\n\")\n",
    "    biomart_file = input (\"enter biomart file name, empty for default (ex mart_export_bos_taurus.csv): \")\n",
    "    species = input (\"enter species, empty for default  (bos taurus): \")\n",
    "    chrom_x = input (\"enter x chromosome number, empty for default  (bos taurus 30): \")\n",
    "    chrom_y = input (\"enter y chromosome number, empty for default  (bos taurus 31): \")\n",
    "    chrom_mt = input (\"enter mt chromosome number, empty for default  (bos taurus 33): \")\n",
    "    refseq = input (\"enter refseq, empty for default  (bos taurus ARS-UCD1.2): \")\n",
    "    print (\"\\n\")\n",
    "    python_parser_biomart_gene_csv (biomart_file, refseq, species, chrom_x, chrom_y, chrom_mt)\n",
    "    print (\"\\nall done .. GENE.csv file has been moved to OUTPUT folder ..\")\n",
    "    os.chdir(PATH)\n",
    "    \n",
    "else:\n",
    "    print (\"WARNING: please enter 1 or 2\")\n",
    "    "
   ]
  },
  {
   "cell_type": "code",
   "execution_count": null,
   "metadata": {},
   "outputs": [],
   "source": []
  }
 ],
 "metadata": {
  "kernelspec": {
   "display_name": "Python 3",
   "language": "python",
   "name": "python3"
  },
  "language_info": {
   "codemirror_mode": {
    "name": "ipython",
    "version": 3
   },
   "file_extension": ".py",
   "mimetype": "text/x-python",
   "name": "python",
   "nbconvert_exporter": "python",
   "pygments_lexer": "ipython3",
   "version": "3.7.3"
  }
 },
 "nbformat": 4,
 "nbformat_minor": 4
}
